{
 "cells": [
  {
   "cell_type": "markdown",
   "metadata": {},
   "source": [
    "# Introduction to Python Programming"
   ]
  },
  {
   "cell_type": "markdown",
   "metadata": {},
   "source": [
    "## 4. Plotting Data with Matplotlib and Bokeh"
   ]
  },
  {
   "cell_type": "markdown",
   "metadata": {},
   "source": [
    "#### Opening Files"
   ]
  },
  {
   "cell_type": "markdown",
   "metadata": {},
   "source": [
    "What we have been doing so far has required you to type the data into the programs by hand, which is a bit cruel. For this worksheet, we will be using a larger dataset (still tiny by many standards) and you can download a file containing the data from the [GitHub repository](https://git.embl.de/grp-bio-it/ITPP/blob/master/speciesDistribution.txt) where these teaching materials are maintained. Just right-click 'Raw' at the top of the file content and download/save the linked file into the same directory as you are keeping the Python scripts. (_Note: if you already obtained these materials from the repository, you probably downloaded the data file, into the same folder, at the same time._)"
   ]
  },
  {
   "cell_type": "markdown",
   "metadata": {},
   "source": [
    "Of course, this requires that we know how to get data out of the file and into our Python program and that is what we are going to do in this worksheet. Specifically we are talking about reading data out of text files. Binary files face their own challenges, and I am not going to get into that in this course since handling them is very dependent on the implementation of the binary file. In any case, for a number of significant classes of binary files, such as images, BAM files or NetCDF formatted data, there are already Python modules to enable you to access the data in a simple way. But in any case, we will look at text files for now and firstly we need to know how to open them."
   ]
  },
  {
   "cell_type": "markdown",
   "metadata": {},
   "source": [
    "If you have downloaded the file, you should make sure that it is saved into the same folder where you are going to save the python programs that you will use to analyse it. We will start simple, just by opening the file at the Python shell prompt."
   ]
  },
  {
   "cell_type": "code",
   "execution_count": 1,
   "metadata": {
    "collapsed": false
   },
   "outputs": [],
   "source": [
    "f = open('speciesDistribution.txt', 'r')"
   ]
  },
  {
   "cell_type": "markdown",
   "metadata": {},
   "source": [
    "The file is now open, and `f` is a variable referring to a _file_ data type.  As you might have guessed, the first argument for `open` is a string containing the filename, but the `'r'` probably needs to be explained. This argument is called the file mode, and `'r'` means that you only want to read data. If you specify `'w'`, it means that you want to write data into the file, which we will talk about later. One very important point is that when you open a file that already exists for writing, the contents of the file are cleared, and can’t be recovered. If you instead want to append data to an existing file you should specify `'a'` as the mode. If you specify `'r+'` then you can read and write to the file. These are the same regardless of the operating system that you are working on, but Windows has a few specific ones of it’s own, which you shouldn’t use if you can avoid them. "
   ]
  },
  {
   "cell_type": "markdown",
   "metadata": {},
   "source": [
    "As you might expect by now, file objects have their own methods and you can use some of these to read data from the file.  The easiest way of doing this is to use `.readlines()`:"
   ]
  },
  {
   "cell_type": "code",
   "execution_count": 2,
   "metadata": {
    "collapsed": false
   },
   "outputs": [
    {
     "data": {
      "text/plain": [
       "['Site: Hetchell Wood N\\n',\n",
       " 'A\\t12983\\n',\n",
       " 'B\\t8493\\n',\n",
       " 'C\\t948\\n',\n",
       " 'D\\t9384\\n',\n",
       " 'E\\t4942\\n',\n",
       " 'G\\t9834\\n',\n",
       " 'I\\t1293\\n',\n",
       " 'J\\t9348\\n',\n",
       " 'Site: Hetchell Wood S\\n',\n",
       " 'A\\t9380\\n',\n",
       " 'B\\t13928\\n',\n",
       " 'D\\t949\\n',\n",
       " 'E\\t19023\\n',\n",
       " 'F\\t9384\\n',\n",
       " 'G\\t948\\n',\n",
       " 'H\\t9284\\n',\n",
       " 'J\\t1093\\n',\n",
       " 'K\\t3029\\n',\n",
       " 'Site: Hagg Wood\\n',\n",
       " 'A\\t2039\\n',\n",
       " 'B\\t9394\\n',\n",
       " 'C\\t19380\\n',\n",
       " 'D\\t9102\\n',\n",
       " 'E\\t932\\n',\n",
       " 'G\\t893\\n',\n",
       " 'H\\t5839\\n',\n",
       " 'J\\t9302\\n',\n",
       " 'L\\t984\\n',\n",
       " 'Site: Scoreby Wood\\n',\n",
       " 'A\\t920\\n',\n",
       " 'B\\t3928\\n',\n",
       " 'D\\t9301\\n',\n",
       " 'E\\t19384\\n',\n",
       " 'F\\t12949\\n',\n",
       " 'H\\t3892\\n',\n",
       " 'I\\t9192\\n',\n",
       " 'K\\t912\\n',\n",
       " 'Site: Grimston Wood\\n',\n",
       " 'A\\t123\\n',\n",
       " 'B\\t1340\\n',\n",
       " 'C\\t11984\\n',\n",
       " 'E\\t9389\\n',\n",
       " 'F\\t4320\\n',\n",
       " 'G\\t1283\\n',\n",
       " 'J\\t8193\\n',\n",
       " 'K\\t193\\n',\n",
       " 'Site: Sutton Wood\\n',\n",
       " 'A\\t883\\n',\n",
       " 'B\\t293\\n',\n",
       " 'C\\t893\\n',\n",
       " 'D\\t18990\\n',\n",
       " 'F\\t3910\\n',\n",
       " 'G\\t930\\n',\n",
       " 'H\\t1738\\n',\n",
       " 'I\\t819\\n',\n",
       " 'M\\t9934\\n',\n",
       " 'Site: Wheldrake Wood\\n',\n",
       " 'B\\t91\\n',\n",
       " 'C\\t22649\\n',\n",
       " 'D\\t2949\\n',\n",
       " 'E\\t901\\n',\n",
       " 'G\\t9204\\n',\n",
       " 'H\\t2040\\n',\n",
       " 'I\\t8173\\n',\n",
       " 'L\\t6781\\n',\n",
       " 'M\\t9184\\n']"
      ]
     },
     "execution_count": 2,
     "metadata": {},
     "output_type": "execute_result"
    }
   ],
   "source": [
    "lines = f.readlines()\n",
    "lines"
   ]
  },
  {
   "cell_type": "markdown",
   "metadata": {},
   "source": [
    "The variable `lines` now refers to a list of strings containing each of the lines in the file. Try looking at one or two of them. If you didn’t look at the contents of the file before you opened it with your program, have a look at it now. If you compare `lines[1]` in Python with the second line in the file, you will see some differences. Most obvious is the presence of a `\\n` at the end of each line in the Python list. These are _newline characters_ and we need to remember to remove these when we process the data from the file. Although it looks like two characters, it is what is called an escape character: just a single character but one with special meaning to the program and which we cannot normally see in a string. On most of the other lines there is another escape `\\t`, which is a _tab character_. Again, we need to remember this for use later. Tabs are often used to separate data items on the lines of text files because, amongst other reasons, they are much less likely to occur within the data than spaces."
   ]
  },
  {
   "cell_type": "markdown",
   "metadata": {},
   "source": [
    "#### Getting Data from Files"
   ]
  },
  {
   "cell_type": "markdown",
   "metadata": {},
   "source": [
    "Using `.readlines()` to create a list containing all of the lines is nice and simple, but has a major drawback. It’s fine when your file is small enough to read all of the lines into memory, but if you are reading a 32Gb SAM file, you are likely to run into problems. Here, you want to read one line at a time, and process it. Python files do have a `.readline()` method that will read only one line, but it’s best to just use a `for` loop. Python has an idea of 'iterable' data types which you can put into `for` loops. We have seen two of these so far: the list and the dictionary. For a list you get each element in turn, and for a dictionary you get each key in turn. Strings are also iterable and return each character in turn. The point of mentioning this now is that files are also iterable, and Python tries to pass you exactly what we want: one line at a time. So we can start to write a program now to start processing this data file. "
   ]
  },
  {
   "cell_type": "markdown",
   "metadata": {},
   "source": [
    "__Note__ This will be the largest program you have written so far, and what I do when I am embarking on writing a large program is to start with just the basic structure and make sure that works then add to the program step by step and keep running it to make sure it is doing what I expect before it gets too complicated."
   ]
  },
  {
   "cell_type": "markdown",
   "metadata": {},
   "source": [
    "To begin, __in an editor window__, type"
   ]
  },
  {
   "cell_type": "code",
   "execution_count": 3,
   "metadata": {
    "collapsed": false
   },
   "outputs": [
    {
     "name": "stdout",
     "output_type": "stream",
     "text": [
      "Site: Hetchell Wood N\n",
      "\n",
      "A\t12983\n",
      "\n",
      "B\t8493\n",
      "\n",
      "C\t948\n",
      "\n",
      "D\t9384\n",
      "\n",
      "E\t4942\n",
      "\n",
      "G\t9834\n",
      "\n",
      "I\t1293\n",
      "\n",
      "J\t9348\n",
      "\n",
      "Site: Hetchell Wood S\n",
      "\n",
      "A\t9380\n",
      "\n",
      "B\t13928\n",
      "\n",
      "D\t949\n",
      "\n",
      "E\t19023\n",
      "\n",
      "F\t9384\n",
      "\n",
      "G\t948\n",
      "\n",
      "H\t9284\n",
      "\n",
      "J\t1093\n",
      "\n",
      "K\t3029\n",
      "\n",
      "Site: Hagg Wood\n",
      "\n",
      "A\t2039\n",
      "\n",
      "B\t9394\n",
      "\n",
      "C\t19380\n",
      "\n",
      "D\t9102\n",
      "\n",
      "E\t932\n",
      "\n",
      "G\t893\n",
      "\n",
      "H\t5839\n",
      "\n",
      "J\t9302\n",
      "\n",
      "L\t984\n",
      "\n",
      "Site: Scoreby Wood\n",
      "\n",
      "A\t920\n",
      "\n",
      "B\t3928\n",
      "\n",
      "D\t9301\n",
      "\n",
      "E\t19384\n",
      "\n",
      "F\t12949\n",
      "\n",
      "H\t3892\n",
      "\n",
      "I\t9192\n",
      "\n",
      "K\t912\n",
      "\n",
      "Site: Grimston Wood\n",
      "\n",
      "A\t123\n",
      "\n",
      "B\t1340\n",
      "\n",
      "C\t11984\n",
      "\n",
      "E\t9389\n",
      "\n",
      "F\t4320\n",
      "\n",
      "G\t1283\n",
      "\n",
      "J\t8193\n",
      "\n",
      "K\t193\n",
      "\n",
      "Site: Sutton Wood\n",
      "\n",
      "A\t883\n",
      "\n",
      "B\t293\n",
      "\n",
      "C\t893\n",
      "\n",
      "D\t18990\n",
      "\n",
      "F\t3910\n",
      "\n",
      "G\t930\n",
      "\n",
      "H\t1738\n",
      "\n",
      "I\t819\n",
      "\n",
      "M\t9934\n",
      "\n",
      "Site: Wheldrake Wood\n",
      "\n",
      "B\t91\n",
      "\n",
      "C\t22649\n",
      "\n",
      "D\t2949\n",
      "\n",
      "E\t901\n",
      "\n",
      "G\t9204\n",
      "\n",
      "H\t2040\n",
      "\n",
      "I\t8173\n",
      "\n",
      "L\t6781\n",
      "\n",
      "M\t9184\n",
      "\n"
     ]
    }
   ],
   "source": [
    "datafile = open('speciesDistribution.txt', 'r')\n",
    "for line in datafile:\n",
    "    print(line)"
   ]
  },
  {
   "cell_type": "markdown",
   "metadata": {},
   "source": [
    "OK, so far so good, the program is basically printing the whole file out to the Python Shell window. However, I forgot about the newline characters at the end of the lines. You have probably noticed that the `print` statement automatically adds a newline to the end of everything it prints, so now we are getting two after each line, which is why the output is double-spaced. So the first thing to do is to fix that, by removing the newline characters from the lines as we read them in. Strings have a `.strip()` method which removes any newlines, spaces or tabs (we call these characters 'whitespace') at the start and end of each line. So add the line"
   ]
  },
  {
   "cell_type": "code",
   "execution_count": 4,
   "metadata": {
    "collapsed": false
   },
   "outputs": [],
   "source": [
    "line = line.strip()"
   ]
  },
  {
   "cell_type": "markdown",
   "metadata": {},
   "source": [
    "to the loop before the print statement (at the correct level of indentation) and try the program again.  Now the output should look single spaced."
   ]
  },
  {
   "cell_type": "code",
   "execution_count": 5,
   "metadata": {
    "collapsed": false
   },
   "outputs": [
    {
     "name": "stdout",
     "output_type": "stream",
     "text": [
      "Site: Hetchell Wood N\n",
      "A\t12983\n",
      "B\t8493\n",
      "C\t948\n",
      "D\t9384\n",
      "E\t4942\n",
      "G\t9834\n",
      "I\t1293\n",
      "J\t9348\n",
      "Site: Hetchell Wood S\n",
      "A\t9380\n",
      "B\t13928\n",
      "D\t949\n",
      "E\t19023\n",
      "F\t9384\n",
      "G\t948\n",
      "H\t9284\n",
      "J\t1093\n",
      "K\t3029\n",
      "Site: Hagg Wood\n",
      "A\t2039\n",
      "B\t9394\n",
      "C\t19380\n",
      "D\t9102\n",
      "E\t932\n",
      "G\t893\n",
      "H\t5839\n",
      "J\t9302\n",
      "L\t984\n",
      "Site: Scoreby Wood\n",
      "A\t920\n",
      "B\t3928\n",
      "D\t9301\n",
      "E\t19384\n",
      "F\t12949\n",
      "H\t3892\n",
      "I\t9192\n",
      "K\t912\n",
      "Site: Grimston Wood\n",
      "A\t123\n",
      "B\t1340\n",
      "C\t11984\n",
      "E\t9389\n",
      "F\t4320\n",
      "G\t1283\n",
      "J\t8193\n",
      "K\t193\n",
      "Site: Sutton Wood\n",
      "A\t883\n",
      "B\t293\n",
      "C\t893\n",
      "D\t18990\n",
      "F\t3910\n",
      "G\t930\n",
      "H\t1738\n",
      "I\t819\n",
      "M\t9934\n",
      "Site: Wheldrake Wood\n",
      "B\t91\n",
      "C\t22649\n",
      "D\t2949\n",
      "E\t901\n",
      "G\t9204\n",
      "H\t2040\n",
      "I\t8173\n",
      "L\t6781\n",
      "M\t9184\n"
     ]
    }
   ],
   "source": [
    "datafile = open('speciesDistribution.txt', 'r')\n",
    "for line in datafile:\n",
    "    line = line.strip()\n",
    "    print(line)"
   ]
  },
  {
   "cell_type": "markdown",
   "metadata": {},
   "source": [
    "#### Processing the File"
   ]
  },
  {
   "cell_type": "markdown",
   "metadata": {},
   "source": [
    "If we look again at the file, we can see that it consists of two types of data. Some lines contain the names of sampling sites and some contain a letter and a number. The letters are taxon designators and the numbers represent abundance of that taxon at that particular site (in this case, as measured by high-throughput DNA sequencing of 18S rRNA). We need to process the two line types differently and store the information in a suitable data structure."
   ]
  },
  {
   "cell_type": "markdown",
   "metadata": {},
   "source": [
    "Take a moment to think about how you think we might go about doing that, and what the best data structure type to use might be for storing the taxon codes and counts for each site. Don’t worry if you find this a little confusing and/or daunting: we are going to work through it one step at a time, starting by identifying each site described in the data."
   ]
  },
  {
   "cell_type": "markdown",
   "metadata": {},
   "source": [
    "The lines with the site names in them all start with the substring `Site:`, so they are easy to recognise.  We can use the string’s `.startswith()` method in an if statement to identify these lines so that we can process them separately.  Try using this method at the Python command line so you understand how it works before putting it into the program."
   ]
  },
  {
   "cell_type": "markdown",
   "metadata": {},
   "source": [
    "#### _Exercise 4.1_"
   ]
  },
  {
   "cell_type": "markdown",
   "metadata": {},
   "source": [
    "Change the program to only print out the lines that start with `Site:`"
   ]
  },
  {
   "cell_type": "code",
   "execution_count": 6,
   "metadata": {
    "collapsed": false
   },
   "outputs": [
    {
     "name": "stdout",
     "output_type": "stream",
     "text": [
      "Site: Hetchell Wood N\n",
      "Site: Hetchell Wood S\n",
      "Site: Hagg Wood\n",
      "Site: Scoreby Wood\n",
      "Site: Grimston Wood\n",
      "Site: Sutton Wood\n",
      "Site: Wheldrake Wood\n"
     ]
    }
   ],
   "source": []
  },
  {
   "cell_type": "markdown",
   "metadata": {},
   "source": [
    "Once that works, remove the `Site:` substring (and the space that follows it) from the string and just print the actual site name. Make sure that you store the name in a variable at this point as well - we will need it later."
   ]
  },
  {
   "cell_type": "code",
   "execution_count": 7,
   "metadata": {
    "collapsed": false
   },
   "outputs": [
    {
     "name": "stdout",
     "output_type": "stream",
     "text": [
      "Hetchell Wood N\n",
      "Hetchell Wood S\n",
      "Hagg Wood\n",
      "Scoreby Wood\n",
      "Grimston Wood\n",
      "Sutton Wood\n",
      "Wheldrake Wood\n"
     ]
    }
   ],
   "source": []
  },
  {
   "cell_type": "markdown",
   "metadata": {},
   "source": [
    "#### Starting to Build the Data Structure"
   ]
  },
  {
   "cell_type": "markdown",
   "metadata": {},
   "source": [
    "Now that we have isolated the site names we can think some more about what kind of data structures we will use to store the data we read from the file. Remember what you learned in the previous worksheet, about how important it is to choose an appropriate data structure. In this case, we have some named sites and then some data corresponding to those sites. That to me sounds like a dictionary. The data we have for each site consists of several lines, which each contain a taxon code (the letter) and a count for that taxon. Again, this sounds like a dictionary."
   ]
  },
  {
   "cell_type": "markdown",
   "metadata": {},
   "source": [
    "So we need a dictionary keyed by each site name, for which the associated value is another dictionary, keyed by the taxon IDs with values that are the counts for that site. So we need to create a dictionary of dictionaries. As with the whole program, it’s probably best to start simple."
   ]
  },
  {
   "cell_type": "markdown",
   "metadata": {},
   "source": [
    "We need to create the top-level dictionary before we can populate it with the data from the file. We do this by defining an empty dictionary. You can do this by putting the line"
   ]
  },
  {
   "cell_type": "code",
   "execution_count": 8,
   "metadata": {
    "collapsed": true
   },
   "outputs": [],
   "source": [
    "sites = {}"
   ]
  },
  {
   "cell_type": "markdown",
   "metadata": {},
   "source": [
    "just before the start of the loop that reads the file. This is often referred to as “initialising” a data structure, and is a strategy that you will use a lot when working with data read into Python from other sources. Now every time you find the name of a new site in the file, you need to create the entry in this dictionary for that site name. Again, the value associated with this site name needs to be a new, empty dictionary. The example below shows how you can extract the site name from a line and create a new dictionary for it."
   ]
  },
  {
   "cell_type": "code",
   "execution_count": 9,
   "metadata": {
    "collapsed": false
   },
   "outputs": [],
   "source": [
    "datafile = open('speciesDistribution.txt', 'r')\n",
    "for line in datafile:\n",
    "    line = line.strip()\n",
    "    if line.startswith('Site: '):  # you should have come up with something similar to\n",
    "        siteName = line[6:]        # this in your solution to exercise .1 ...\n",
    "        sites[siteName] = {}"
   ]
  },
  {
   "cell_type": "markdown",
   "metadata": {},
   "source": [
    "#### _Exercise 4.2_"
   ]
  },
  {
   "cell_type": "markdown",
   "metadata": {},
   "source": [
    "Change your program to create the empty dictionaries as above, then right at the end, outside the loop, get it to print out the keys for the sites dictionary. These should be all of the site names."
   ]
  },
  {
   "cell_type": "markdown",
   "metadata": {},
   "source": [
    "#### Splitting Lines and Converting Data"
   ]
  },
  {
   "cell_type": "markdown",
   "metadata": {},
   "source": [
    "Now that we are creating a dictionary for each site, we need to parse the taxon/count lines from the file and put them into the appropriate dictionary for their site. As is common, on these lines we have two items of data. (We know too that once we see one of these lines we must also have the site name, which we have kept in a variable since it was extracted from the previously seen `Site:` line.) \n",
    "\n",
    "We can split the line as we did before to get the separate fields. In this case there will be two fields and they are returned as a list, but Python allows us to unpack them directly into individual variables in the assignment statement if we want to. So, after inserting an `else:` statement to go with the `if` statement that contains the `.startswith()` test to find the site names, you could type (again with the appropriate level of indentation): "
   ]
  },
  {
   "cell_type": "markdown",
   "metadata": {},
   "source": [
    "`taxonID, count = line.split()`"
   ]
  },
  {
   "cell_type": "markdown",
   "metadata": {},
   "source": [
    "Just a few of words of caution.  Firstly, this will split the string on all whitespace characters.  This is fine in our case, but if any of your data were to contain spaces (for example if the single letter taxon names were classic binomial species names like _Homo sapiens_ instead), they would be split too.  You can limit to only split on tabs with:"
   ]
  },
  {
   "cell_type": "markdown",
   "metadata": {},
   "source": [
    "`taxonID, count = line.split(‘\\t’)`"
   ]
  },
  {
   "cell_type": "markdown",
   "metadata": {},
   "source": [
    "That solved the first problem. The second issue here is the data types. Type the following at the Python shell prompt:"
   ]
  },
  {
   "cell_type": "code",
   "execution_count": null,
   "metadata": {
    "collapsed": false
   },
   "outputs": [],
   "source": [
    "line = 'A\\t29304'\n",
    "taxonID, count = line.split('\\t')\n",
    "count"
   ]
  },
  {
   "cell_type": "code",
   "execution_count": null,
   "metadata": {
    "collapsed": false
   },
   "outputs": [],
   "source": [
    "count = count + 99"
   ]
  },
  {
   "cell_type": "code",
   "execution_count": null,
   "metadata": {
    "collapsed": false
   },
   "outputs": [],
   "source": [
    "count = 29304\n",
    "count"
   ]
  },
  {
   "cell_type": "code",
   "execution_count": null,
   "metadata": {
    "collapsed": true
   },
   "outputs": [],
   "source": [
    "count = count + 99"
   ]
  },
  {
   "cell_type": "markdown",
   "metadata": {},
   "source": [
    "The first time that Python prints the value of count, it has quotation marks around it, and you get an error when you try to add 99 to it. The second time it doesn’t have quotation marks and you don’t receive an error when adding 99. This is because the first time, the value of count is not a number but a string representing the number. Perl programmers don’t have to worry about this kind of thing, because Perl will automatically convert things for you when it thinks it needs to. With Python we have to be a bit more careful and convert the data ourselves.  This is done with"
   ]
  },
  {
   "cell_type": "code",
   "execution_count": null,
   "metadata": {
    "collapsed": false
   },
   "outputs": [],
   "source": [
    "count = int(count)\n",
    "count"
   ]
  },
  {
   "cell_type": "markdown",
   "metadata": {},
   "source": [
    "to convert to an integer and, if needed, you could convert it back again with:"
   ]
  },
  {
   "cell_type": "code",
   "execution_count": null,
   "metadata": {
    "collapsed": false
   },
   "outputs": [],
   "source": [
    "count = str(count)\n",
    "count"
   ]
  },
  {
   "cell_type": "markdown",
   "metadata": {},
   "source": [
    "Now when you add the lines to your program, you have variables containing the site name, the taxonID and the count (which you can now make sure is converted to a proper integer). You can put these into the dictionary of dictionaries like this: "
   ]
  },
  {
   "cell_type": "code",
   "execution_count": null,
   "metadata": {
    "collapsed": true
   },
   "outputs": [],
   "source": [
    "sites[siteName][taxonID] = count"
   ]
  },
  {
   "cell_type": "markdown",
   "metadata": {},
   "source": [
    "In this statement, `sites[siteName]` refers to the dictionary we created for that site, so we append another subscript onto it to get a reference to the data item for this taxon in that site dictionary. Hopefully, that makes some sense. Take a look back at the discussion of nested dictionaries in Worksheet 3 if you need to. Now, finally, all of the data from the file is where we want it."
   ]
  },
  {
   "cell_type": "markdown",
   "metadata": {},
   "source": [
    "#### _Exercise 4.3_"
   ]
  },
  {
   "cell_type": "markdown",
   "metadata": {},
   "source": [
    "Make the changes discussed above and make sure your program runs without errors.  We will also need another change, to keep track of the names/IDs of taxa as we encounter them.  At the top of the program, create a new empty list of taxon IDs e.g.,:"
   ]
  },
  {
   "cell_type": "code",
   "execution_count": 13,
   "metadata": {
    "collapsed": false
   },
   "outputs": [],
   "source": [
    "sites = {}\n",
    "taxa = []\n",
    "datafile = open('speciesDistribution.txt', 'r')\n",
    "for line in datafile:\n",
    "    line = line.strip()\n",
    "    if line.startswith('Site: '):  # you should have come up with something similar to\n",
    "        siteName = line[6:]        # this in your solution to exercise .1 ...\n",
    "        sites[siteName] = {}\n",
    "    else:\n",
    "        taxonID, count = line.split('\\t')\n",
    "        count = int(count)\n",
    "        if taxonID not in taxa:\n",
    "            taxa.append(taxonID)\n",
    "        sites[siteName][taxonID] = count"
   ]
  },
  {
   "cell_type": "code",
   "execution_count": 14,
   "metadata": {
    "collapsed": false
   },
   "outputs": [
    {
     "data": {
      "text/plain": [
       "{'Grimston Wood': {'A': 123,\n",
       "  'B': 1340,\n",
       "  'C': 11984,\n",
       "  'E': 9389,\n",
       "  'F': 4320,\n",
       "  'G': 1283,\n",
       "  'J': 8193,\n",
       "  'K': 193},\n",
       " 'Hagg Wood': {'A': 2039,\n",
       "  'B': 9394,\n",
       "  'C': 19380,\n",
       "  'D': 9102,\n",
       "  'E': 932,\n",
       "  'G': 893,\n",
       "  'H': 5839,\n",
       "  'J': 9302,\n",
       "  'L': 984},\n",
       " 'Hetchell Wood N': {'A': 12983,\n",
       "  'B': 8493,\n",
       "  'C': 948,\n",
       "  'D': 9384,\n",
       "  'E': 4942,\n",
       "  'G': 9834,\n",
       "  'I': 1293,\n",
       "  'J': 9348},\n",
       " 'Hetchell Wood S': {'A': 9380,\n",
       "  'B': 13928,\n",
       "  'D': 949,\n",
       "  'E': 19023,\n",
       "  'F': 9384,\n",
       "  'G': 948,\n",
       "  'H': 9284,\n",
       "  'J': 1093,\n",
       "  'K': 3029},\n",
       " 'Scoreby Wood': {'A': 920,\n",
       "  'B': 3928,\n",
       "  'D': 9301,\n",
       "  'E': 19384,\n",
       "  'F': 12949,\n",
       "  'H': 3892,\n",
       "  'I': 9192,\n",
       "  'K': 912},\n",
       " 'Sutton Wood': {'A': 883,\n",
       "  'B': 293,\n",
       "  'C': 893,\n",
       "  'D': 18990,\n",
       "  'F': 3910,\n",
       "  'G': 930,\n",
       "  'H': 1738,\n",
       "  'I': 819,\n",
       "  'M': 9934},\n",
       " 'Wheldrake Wood': {'B': 91,\n",
       "  'C': 22649,\n",
       "  'D': 2949,\n",
       "  'E': 901,\n",
       "  'G': 9204,\n",
       "  'H': 2040,\n",
       "  'I': 8173,\n",
       "  'L': 6781,\n",
       "  'M': 9184}}"
      ]
     },
     "execution_count": 14,
     "metadata": {},
     "output_type": "execute_result"
    }
   ],
   "source": [
    "sites"
   ]
  },
  {
   "cell_type": "markdown",
   "metadata": {},
   "source": [
    "Now, when you add a count to the dictionary of dictionaries, check if the taxon ID is in this new list and add it if not (just like you did when merging the shopping lists in Worksheet 2).  We will then have a non-redundant list of taxon names to play with in a minute."
   ]
  },
  {
   "cell_type": "markdown",
   "metadata": {},
   "source": [
    "#### Filling in the Blanks"
   ]
  },
  {
   "cell_type": "markdown",
   "metadata": {},
   "source": [
    "Unfortunately, there is a problem with this data. Some of the taxa were not detected at every one of the sampled sites, so the data for these sites do not include counts associated with those taxa. This means that if we were, say, to plot the data in bar charts, some would have fewer bars than others or the bars would be in different positions, rather than just having a gap (or zero-height bar) where the taxon wasn’t found. What you need to do to avoid this is create new entries with counts of zero for the missing taxa at each site. "
   ]
  },
  {
   "cell_type": "markdown",
   "metadata": {},
   "source": [
    "#### _Exercise 4.4_"
   ]
  },
  {
   "cell_type": "markdown",
   "metadata": {},
   "source": [
    "Put the zero values in the data structure. To do this you will need to loop through the sites, and for each site, loop through the IDs in the full, non-redundant taxon list and if a taxon ID is not in the keys of the dictionary for the site, add it with an associated count of zero. Then you will need to check your program is working correctly. A good way to do that is described in the next section."
   ]
  },
  {
   "cell_type": "code",
   "execution_count": 21,
   "metadata": {
    "collapsed": true
   },
   "outputs": [],
   "source": []
  },
  {
   "cell_type": "markdown",
   "metadata": {},
   "source": [
    "#### Formatting Data Structures"
   ]
  },
  {
   "cell_type": "markdown",
   "metadata": {},
   "source": [
    "When you are building up data structures like this, they can get very complex and it’s difficult to keep track and be sure that you are putting everything in the right place. Fortunately, there is a Python module (part of the standard library), which lets you print out the data in a comprehensible way. Of course, you could just print the entire data structure in one statement and this works, but it can be hard to read - there is no formatting at all - and it often doesn’t really help.  The `pprint` module formats the data in a hierarchical way, making it easier to understand. At the top of your program, you need to import the `pprint` module with:"
   ]
  },
  {
   "cell_type": "code",
   "execution_count": null,
   "metadata": {
    "collapsed": true
   },
   "outputs": [],
   "source": [
    "import pprint"
   ]
  },
  {
   "cell_type": "markdown",
   "metadata": {},
   "source": [
    "You then create a formatter that will do the work for you with:"
   ]
  },
  {
   "cell_type": "code",
   "execution_count": null,
   "metadata": {
    "collapsed": true
   },
   "outputs": [],
   "source": [
    "pp = pprint.PrettyPrinter(indent=4)"
   ]
  },
  {
   "cell_type": "markdown",
   "metadata": {},
   "source": [
    "Now, when you want to check a data structure, you can just do the following and get a nice readable printout of your data structure:"
   ]
  },
  {
   "cell_type": "code",
   "execution_count": null,
   "metadata": {
    "collapsed": false
   },
   "outputs": [],
   "source": [
    "# this is the dictionary from Worksheet 2\n",
    "studentNumbers = { 'Bioscience Technology': 16, \n",
    "                   'Computational Biology': 12,\n",
    "                   'Post-Genomic Biology': 20,\n",
    "                   'Ecology and Environmental Management': 3,\n",
    "                   'Maths in the Living Environment': 0\n",
    "                 }\n",
    "variable = studentNumbers \n",
    "pp.pprint(variable)"
   ]
  },
  {
   "cell_type": "markdown",
   "metadata": {},
   "source": [
    "Compare this output to the way that the same dictionary is displayed by the default `print` function:"
   ]
  },
  {
   "cell_type": "code",
   "execution_count": null,
   "metadata": {
    "collapsed": false
   },
   "outputs": [],
   "source": [
    "print(studentNumbers)"
   ]
  },
  {
   "cell_type": "markdown",
   "metadata": {},
   "source": [
    "I hope you'll agree that the `pprint` version is much easier to interpret by eye."
   ]
  },
  {
   "cell_type": "markdown",
   "metadata": {},
   "source": [
    "#### _Exercise 4.5_"
   ]
  },
  {
   "cell_type": "markdown",
   "metadata": {},
   "source": [
    "Use the `pprint` module to dump out the contents of you data structure and check that the data corresponds with what you thought it should look like."
   ]
  },
  {
   "cell_type": "markdown",
   "metadata": {},
   "source": [
    "#### Plotting Data"
   ]
  },
  {
   "cell_type": "markdown",
   "metadata": {},
   "source": [
    "There are a number of options available for plotting data in Python. For many years the standard approach was to use a library called `pyplot` from the module `matplotlib`, which closely resembles the plotting interface of the mathematical programming language _MatLab_. "
   ]
  },
  {
   "cell_type": "markdown",
   "metadata": {},
   "source": [
    "To start plotting the data, you will need to use a couple of new modules installed which don’t come with the standard installation of Python. The first is `numpy`, which defines a new array data type which you can use in ways that will be familiar if you use _R_ or _MATLAB_ and is really just there because the second, `matplotlib`, relies heavily on it. `matplotlib` gives a whole range of graph plotting functions again similar to the facilities in _MATLAB_. We won’t use `numpy` directly, but I encourage you to play with `matplotlib`, and in particular the `pyplot` parts of it."
   ]
  },
  {
   "cell_type": "markdown",
   "metadata": {},
   "source": [
    "If you're using the Anaconda distribution of Python, then you already have all of the modules that are needed for the course. If not, then you might need to install the modules before you can follow the rest of the material. A quick guide to installing these is given below."
   ]
  },
  {
   "cell_type": "markdown",
   "metadata": {},
   "source": [
    "A couple of notes before we begin:   \n",
    "\n",
    "- __If you are using the Anaconda Python distribution you don't need to follow the next few steps!__ \n",
    "- To install modules, you will need to have administrator priviledges for the computer that you're working on. \n",
    "- If at any point you are unsure about how to follow these instructions, you should ask for help.  \n",
    "\n",
    "First of all, you should make sure that you have `pip` installed. To do this, you need to open a terminal/command prompt (_not the Python shell_) on your system (Applications -> Terminal on Mac) and type"
   ]
  },
  {
   "cell_type": "markdown",
   "metadata": {},
   "source": [
    "```Bash\n",
    "pip help\n",
    "```"
   ]
  },
  {
   "cell_type": "markdown",
   "metadata": {},
   "source": [
    "If you have `pip` installed, you should see some helpful output listing all the available options for running the package manager. If not, you will get an (equally helpful) error message. To install `pip` go [here](https://pip.pypa.io/en/stable/installing/) and follow the instructions."
   ]
  },
  {
   "cell_type": "markdown",
   "metadata": {},
   "source": [
    "To install the modules that we need with `pip`, you simply have to run the commands"
   ]
  },
  {
   "cell_type": "markdown",
   "metadata": {},
   "source": [
    "```Bash\n",
    "pip install numpy\n",
    "pip install matplotlib\n",
    "pip install bokeh\n",
    "```"
   ]
  },
  {
   "cell_type": "markdown",
   "metadata": {},
   "source": [
    "at the command line and respond to any prompts from the package manager. That’s it. (If you are working on a different operating system and/or distribution, ask for help and we will find a way for you to install the packages that you need.) Now you can return to the Python shell and type:"
   ]
  },
  {
   "cell_type": "code",
   "execution_count": 35,
   "metadata": {
    "collapsed": true
   },
   "outputs": [],
   "source": [
    "import numpy as np\n",
    "from matplotlib import pyplot as plt\n",
    "\n",
    "% matplotlib inline\n",
    "# The above line is a 'magic' line for the Jupyter notebook which allows plots to be placed inside of the notebook."
   ]
  },
  {
   "cell_type": "markdown",
   "metadata": {},
   "source": [
    "These statements make the functions, variables and classes of the two modules available to your program, but keep them at arms length, in their own 'namespaces'. This is to make sure that none of the names they use clash with anything in your program. It does mean that you have to type the prefix `np.` or `plt.` when you need to call them, but that’s not much of a price to pay for the safety that namespaces give you. If you are feeling reckless, you could, for example, have typed"
   ]
  },
  {
   "cell_type": "markdown",
   "metadata": {},
   "source": [
    "`from numpy import *`"
   ]
  },
  {
   "cell_type": "markdown",
   "metadata": {},
   "source": [
    "and then you wouldn’t have to deal with the prefix. This might seem like a good idea, but in fact it is quite risky. Our advice is not to do that. _Ever._ One day it will trip you up and it will take weeks to find out exactly what you have done wrong. Not that I’m talking from experience, or anything..."
   ]
  },
  {
   "cell_type": "markdown",
   "metadata": {},
   "source": [
    "Anyway, we now have the modules loaded and ready to go, so we can get on with trying to plot a bar chart of our data.  We will generate some fairly pretty plots. `pyplot` is a bit unusual as a Python module, because it doesn’t define objects and methods for you, it’s just a set of function calls. Normally, you might expect to create a figure object, then use it’s methods, to e.g., add data or change the layout. However, `pyplot` just remembers what you are doing and performs on the last figure or subplot that you used. This type of interface is called “stateful”. If you really don’t like working this way, there is an object interface as well, but the documentation isn’t quite as good for it. "
   ]
  },
  {
   "cell_type": "markdown",
   "metadata": {},
   "source": [
    "In our case, though, we want to start by creating a new figure (this is actually optional, but good practice - Python says “Explicit is better that implicit” - Try: `import this`)."
   ]
  },
  {
   "cell_type": "code",
   "execution_count": null,
   "metadata": {
    "collapsed": false
   },
   "outputs": [],
   "source": [
    "plt.figure(1)"
   ]
  },
  {
   "cell_type": "markdown",
   "metadata": {},
   "source": [
    "As soon as you executed this line, a new window might have appeared (it depends on your operating system) and this is where the figure will be drawn. Don’t worry if the window didn’t appear at this stage - it should show up when you’re done building the figure instead. Inline plotting is switched on in the IPython Notebook, so as we add things to the plot, you will see them appear below. The number argument to `plt.figure` is just a reference and lets you switch back to this figure later if you need to. The next step is to create a subplot. This is mostly used for figures with multiple panels, where each panel is a subplot. In this case, we’ll just do one for now, so we can just type one of the following statements:"
   ]
  },
  {
   "cell_type": "code",
   "execution_count": null,
   "metadata": {
    "collapsed": false
   },
   "outputs": [],
   "source": [
    "plt.subplot(1,1,1)"
   ]
  },
  {
   "cell_type": "markdown",
   "metadata": {},
   "source": [
    "or"
   ]
  },
  {
   "cell_type": "code",
   "execution_count": null,
   "metadata": {
    "collapsed": false
   },
   "outputs": [],
   "source": [
    "plt.subplot(111)"
   ]
  },
  {
   "cell_type": "markdown",
   "metadata": {},
   "source": [
    "These are again optional if you only have one panel in your figure, but again it’s generally better to be explicit. The arguments for the second form are (rows, columns, subfig), specifying the number of rows of panels, the number of columns and which one you want to draw now (which is in the range 1 - rows\\*colums). So if you have twelve panels and you wanted to select the seventh, you would use one of"
   ]
  },
  {
   "cell_type": "code",
   "execution_count": null,
   "metadata": {
    "collapsed": false
   },
   "outputs": [],
   "source": [
    "plt.subplot(3,4,7)"
   ]
  },
  {
   "cell_type": "markdown",
   "metadata": {},
   "source": [
    "or"
   ]
  },
  {
   "cell_type": "code",
   "execution_count": null,
   "metadata": {
    "collapsed": false
   },
   "outputs": [],
   "source": [
    "plt.subplot(4,3,7)"
   ]
  },
  {
   "cell_type": "markdown",
   "metadata": {},
   "source": [
    "depending on how many rows and columns you used. Subfigures/subplots are numbered as if read like text: left-right and top-bottom. If rows\\*columns is less than 10, you can use the top form without the commas e.g. `(321)` instead of `(3,2,1)`, but you might consider this to be less explicit."
   ]
  },
  {
   "cell_type": "markdown",
   "metadata": {},
   "source": [
    "#### Simple matplotlib plots"
   ]
  },
  {
   "cell_type": "markdown",
   "metadata": {},
   "source": [
    "Now, we can make up some data and plot it as a bar chart. The first thing is to create a list containing the heights of some bars, for which we can use:"
   ]
  },
  {
   "cell_type": "code",
   "execution_count": null,
   "metadata": {
    "collapsed": true
   },
   "outputs": [],
   "source": [
    "barHeights = range(20,0,-1)"
   ]
  },
  {
   "cell_type": "markdown",
   "metadata": {},
   "source": [
    "We also need to specify where each of the bars will be drawn. This is the x-coordinate of the bottom left corner of the bar. For this we will use:"
   ]
  },
  {
   "cell_type": "code",
   "execution_count": null,
   "metadata": {
    "collapsed": true
   },
   "outputs": [],
   "source": [
    "positions = range(20)"
   ]
  },
  {
   "cell_type": "markdown",
   "metadata": {},
   "source": [
    "Now we can draw the bar itself with"
   ]
  },
  {
   "cell_type": "code",
   "execution_count": null,
   "metadata": {
    "collapsed": false
   },
   "outputs": [],
   "source": [
    "plt.bar(positions, barHeights)"
   ]
  },
  {
   "cell_type": "code",
   "execution_count": null,
   "metadata": {
    "collapsed": false
   },
   "outputs": [],
   "source": [
    "plt.show() # you might need to run this line for your plot to appear"
   ]
  },
  {
   "cell_type": "markdown",
   "metadata": {},
   "source": [
    "and the chart should appear in the window. You will notice that the figure has rescaled to fit the data and the axes are just labelled with numbers. There are lots of ways to tweak the figures, such as the `plt.xlabel()` and `plt.ylabel()` methods, which put titles on the axes, or `plt.title()`, which puts a title on the plot."
   ]
  },
  {
   "cell_type": "markdown",
   "metadata": {},
   "source": [
    "Of course, what we really want to do is plot the data from our file of sites and taxa. To make it as easy as possible to compare the distributions at the different sites, we want to plot all of the data in a single figure. To help us do this, we are going to define a function to plot the figure, then we can pass the data for each figure into the function, one site at a time. We haven’t done this before, so I will give you the code for the function:"
   ]
  },
  {
   "cell_type": "code",
   "execution_count": null,
   "metadata": {
    "collapsed": true
   },
   "outputs": [],
   "source": [
    "def doBarChart(heights, labels, title, rows, columns, subplot):\n",
    "    plt.subplot(rows, columns, subplot)\n",
    "    plt.bar(range(len(labels)), heights)\n",
    "    plt.title(title)\n",
    "    plt.xlabel('Taxon')\n",
    "    plt.ylabel('Abundance')\n",
    "    plt.axis([0, len(labels), 0, 25000])\n",
    "    tickPos = []\n",
    "    for pos in range(len(labels)):\n",
    "        tickPos.append(pos+0.4)\n",
    "    plt.xticks(tickPos,labels)"
   ]
  },
  {
   "cell_type": "markdown",
   "metadata": {},
   "source": [
    "This function takes a list of bar heights, a list of labels, a string to use as the title, then the number of rows and columns and the subplot number. First, the function passes these last three to `plt.subplot()` to initialise a new subplot on the figure. It then draws the bar chart, adds the title, labels the axes, and sets the minimum and maximum values for the axes. The last fiddly bit is to create a new list for the labels. By default, when you draw a bar chart, the widths of the bars are 0.8 units. So, we create a new list of positions which are offset by 0.4 units, so that the labels will centred relative to the bars. You can now add this function definition to the top of your program file along with the import statements and you will have everything you need to create the multi-panel figure. "
   ]
  },
  {
   "cell_type": "markdown",
   "metadata": {},
   "source": [
    "#### _Exercise 4.6_"
   ]
  },
  {
   "cell_type": "markdown",
   "metadata": {},
   "source": [
    "Plot all of the data that you read from the file earlier into a single figure of bar plots for each site. This is challenging, but take it bit by bit and you should be able to do it.  \n",
    "\n",
    "* You will need to start by calling `plt.figure(1)`, then start a loop over the sites. \n",
    "* In that loop, you need to \n",
    "  * gather the data for the bar heights (the counts),\n",
    "  * then call the `doBarChart` function, passing in the row heights, labels, the site name as a title and the number of rows, columns and subplot number. \n",
    "* Once you have it working like that, try changing the program so that the sites and taxon IDs are in alphabetical order. \n",
    "* Then use the plot configuration window to tidy up the figure and save it.  \n",
    "\n",
    "You should be able to get it to look as in the figure below."
   ]
  },
  {
   "cell_type": "markdown",
   "metadata": {},
   "source": [
    "![Example output from Exercise 4.6](images/exercise4_6example.png)"
   ]
  },
  {
   "cell_type": "markdown",
   "metadata": {},
   "source": [
    "Once you have got this to work, or if you get really stuck, you can check out a solution to the exercise above in [this notebook](http://nbviewer.ipython.org/github/tobyhodges/ITPP/tree/master/Exercise4_6WalkthroughMPL.ipynb)."
   ]
  },
  {
   "cell_type": "markdown",
   "metadata": {},
   "source": [
    "#### _Exercise 4.7_"
   ]
  },
  {
   "cell_type": "markdown",
   "metadata": {},
   "source": [
    "_Note that this exercise is optional._ The data that we read in and plotted in the first parts of this chapter was not in the ideal format. This is deliberate, to provide you with practice in choosing appropriate data structures and reading data from a file. Unfortunately, it's also not uncommon to be provided with data in a weird format that can be inconsistent and annoying to read (_parse_) programmatically.\n",
    "\n",
    "With counts collected across a set of site names, for a set of taxa, it would be more sensibel to store these data in a tabular format. Now that we have gone to the trouble of reading the data in and adding zero counts where appropriate, let's write a new file with the data arranged in a table.\n",
    "\n",
    "To write a new file, we use the same `open` function that we read the data in with, but with `'w'` as the mode instead of `'r'`. The tabular file should have the structure:\n",
    "\n",
    "```\n",
    "taxonID  site1    site2    site3    ...    siteN\n",
    "taxon1   count    count    count    ...    count\n",
    "taxon2   count    count    count    ...    count\n",
    "...      ...      ...      ...      ...    ...\n",
    "taxonM   count    count    count    ...    count  \n",
    "```\n",
    "\n",
    "where each field on a row is separated by a `\\t` tab character.\n",
    "\n",
    "Rearrange the lines of code below to write the collected data to a file. (Be careful to observe and preserve the indentation levels.)"
   ]
  },
  {
   "cell_type": "code",
   "execution_count": 25,
   "metadata": {
    "collapsed": false
   },
   "outputs": [
    {
     "ename": "IndentationError",
     "evalue": "expected an indented block (<ipython-input-25-706fe20f1be2>, line 4)",
     "output_type": "error",
     "traceback": [
      "\u001b[0;36m  File \u001b[0;32m\"<ipython-input-25-706fe20f1be2>\"\u001b[0;36m, line \u001b[0;32m4\u001b[0m\n\u001b[0;31m    sitenames = list(sites.keys())\u001b[0m\n\u001b[0m            ^\u001b[0m\n\u001b[0;31mIndentationError\u001b[0m\u001b[0;31m:\u001b[0m expected an indented block\n"
     ]
    }
   ],
   "source": [
    "outfh.close()\n",
    "outfh.write('taxonID\\t')\n",
    "for tax in sorted(taxa):\n",
    "sitenames = list(sites.keys())\n",
    "outfh.write('\\t'.join(sitenames))\n",
    "outfh.write('\\n')\n",
    "outfh = open('speciesDistribution_tabular.txt', 'w')\n",
    "    outfh.write('\\t'.join([str(sites[site][tax]) for site in sitenames]))\n",
    "    outfh.write('{}\\t'.format(tax))\n",
    "    outfh.write('\\n')\n",
    "sitenames.sort()"
   ]
  },
  {
   "cell_type": "markdown",
   "metadata": {},
   "source": [
    "#### Using Pandas for tabular data"
   ]
  },
  {
   "cell_type": "markdown",
   "metadata": {},
   "source": [
    "Now that we have the data in a tabular file (you can download the tabular version [here]() if you chose not to complete the exercise above), we can take advantage of the Pandas library. Pandas is one of the most commonly-used libraries for data analysis in Python, and has been designed to handle, analyse, and visualise tabular data quickly and easily. If you have data in tabular format, you can avoid the process of building up complex data structures that we were dealing with earlier, load in your data table, and jump straight to organising, filtering, summarising, etc.\n",
    "\n",
    "First, we need to import Pandas, which we will do using the standard shortened version of the namespace:"
   ]
  },
  {
   "cell_type": "code",
   "execution_count": 28,
   "metadata": {
    "collapsed": true
   },
   "outputs": [],
   "source": [
    "import pandas as pd"
   ]
  },
  {
   "cell_type": "markdown",
   "metadata": {},
   "source": [
    "This allows us to access all of the functions and object classes included in the library, via the `pd` namespace. One function included in Pandas, which we will use now, is `read_table`. We will use this to read our tabular data file into Python, stroing it in memory as a Pandas `DataFrame` object:"
   ]
  },
  {
   "cell_type": "code",
   "execution_count": 29,
   "metadata": {
    "collapsed": false
   },
   "outputs": [
    {
     "name": "stdout",
     "output_type": "stream",
     "text": [
      "   taxonID  Grimston Wood  Hagg Wood  Hetchell Wood N  Hetchell Wood S  \\\n",
      "0        A            123       2039            12983             9380   \n",
      "1        B           1340       9394             8493            13928   \n",
      "2        C          11984      19380              948                0   \n",
      "3        D              0       9102             9384              949   \n",
      "4        E           9389        932             4942            19023   \n",
      "5        F           4320          0                0             9384   \n",
      "6        G           1283        893             9834              948   \n",
      "7        H              0       5839                0             9284   \n",
      "8        I              0          0             1293                0   \n",
      "9        J           8193       9302             9348             1093   \n",
      "10       K            193          0                0             3029   \n",
      "11       L              0        984                0                0   \n",
      "12       M              0          0                0                0   \n",
      "\n",
      "    Scoreby Wood  Sutton Wood  Wheldrake Wood  \n",
      "0            920          883               0  \n",
      "1           3928          293              91  \n",
      "2              0          893           22649  \n",
      "3           9301        18990            2949  \n",
      "4          19384            0             901  \n",
      "5          12949         3910               0  \n",
      "6              0          930            9204  \n",
      "7           3892         1738            2040  \n",
      "8           9192          819            8173  \n",
      "9              0            0               0  \n",
      "10           912            0               0  \n",
      "11             0            0            6781  \n",
      "12             0         9934            9184  \n"
     ]
    }
   ],
   "source": [
    "data = pd.read_table('speciesDistribution_tabular.txt')\n",
    "print(data)"
   ]
  },
  {
   "cell_type": "markdown",
   "metadata": {},
   "source": [
    "As the output above shows, we now have the full table stored with the variable name `data`. However, to really be able to easily access the data, we need to specify the column headers and row names. This will allow us to access individual rows, columns, or data points, as we were doing before via `sites[sitename]`, `sites[sitename][taxonID]` and so on. We could set the column and row names with the current `data` object, but it's actually easier to simply set them when we first read the table in, so let's edit and re-run our call to `read_table`:"
   ]
  },
  {
   "cell_type": "code",
   "execution_count": 33,
   "metadata": {
    "collapsed": false
   },
   "outputs": [
    {
     "name": "stdout",
     "output_type": "stream",
     "text": [
      "         Grimston Wood  Hagg Wood  Hetchell Wood N  Hetchell Wood S  \\\n",
      "taxonID                                                               \n",
      "A                  123       2039            12983             9380   \n",
      "B                 1340       9394             8493            13928   \n",
      "C                11984      19380              948                0   \n",
      "D                    0       9102             9384              949   \n",
      "E                 9389        932             4942            19023   \n",
      "F                 4320          0                0             9384   \n",
      "G                 1283        893             9834              948   \n",
      "H                    0       5839                0             9284   \n",
      "I                    0          0             1293                0   \n",
      "J                 8193       9302             9348             1093   \n",
      "K                  193          0                0             3029   \n",
      "L                    0        984                0                0   \n",
      "M                    0          0                0                0   \n",
      "\n",
      "         Scoreby Wood  Sutton Wood  Wheldrake Wood  \n",
      "taxonID                                             \n",
      "A                 920          883               0  \n",
      "B                3928          293              91  \n",
      "C                   0          893           22649  \n",
      "D                9301        18990            2949  \n",
      "E               19384            0             901  \n",
      "F               12949         3910               0  \n",
      "G                   0          930            9204  \n",
      "H                3892         1738            2040  \n",
      "I                9192          819            8173  \n",
      "J                   0            0               0  \n",
      "K                 912            0               0  \n",
      "L                   0            0            6781  \n",
      "M                   0         9934            9184  \n"
     ]
    }
   ],
   "source": [
    "data = pd.read_table('speciesDistribution_tabular.txt', header=0, index_col=0)\n",
    "print(data)"
   ]
  },
  {
   "cell_type": "markdown",
   "metadata": {},
   "source": [
    "We don't have time to go into detail about all the many wonderful things that you can do with Pandas and dataframes. For a more comprehensive introduction to the subject, I recommend the Software Carpentry lesson \"Plotting and Programming in Python\", available at [swcarpentry.github.io/python-novice-gapminder/](https://swcarpentry.github.io/python-novice-gapminder/).\n",
    "\n",
    "Here, it suffices to say that we can access individual columns of the dataframe similarly to accessing values in a dictionary, by providing the column title in square brackets:"
   ]
  },
  {
   "cell_type": "code",
   "execution_count": 69,
   "metadata": {
    "collapsed": false
   },
   "outputs": [
    {
     "data": {
      "text/plain": [
       "taxonID\n",
       "A      123\n",
       "B     1340\n",
       "C    11984\n",
       "D        0\n",
       "E     9389\n",
       "F     4320\n",
       "G     1283\n",
       "H        0\n",
       "I        0\n",
       "J     8193\n",
       "K      193\n",
       "L        0\n",
       "M        0\n",
       "Name: Grimston Wood, dtype: int64"
      ]
     },
     "execution_count": 69,
     "metadata": {},
     "output_type": "execute_result"
    }
   ],
   "source": [
    "data['Grimston Wood']"
   ]
  },
  {
   "cell_type": "markdown",
   "metadata": {},
   "source": [
    "Note, that we get the row names alongside the count values for our chosen site. If you wanted to, you could access a specific count by also providing the taxon ID:"
   ]
  },
  {
   "cell_type": "code",
   "execution_count": 71,
   "metadata": {
    "collapsed": false
   },
   "outputs": [
    {
     "name": "stdout",
     "output_type": "stream",
     "text": [
      "893\n",
      "0\n",
      "9394\n"
     ]
    }
   ],
   "source": [
    "print(data['Hagg Wood']['G'])\n",
    "print(data['Hagg Wood']['F'])\n",
    "print(data['Hagg Wood']['B'])"
   ]
  },
  {
   "cell_type": "markdown",
   "metadata": {},
   "source": [
    "To recreate the plots that we were producing before with matplotlib, we will need to access all of the columns and rows, so I will also show you how to achieve that. The dataframe object has `index` and `columns` attributes that carry the row and column names respectively:"
   ]
  },
  {
   "cell_type": "code",
   "execution_count": 73,
   "metadata": {
    "collapsed": false
   },
   "outputs": [
    {
     "data": {
      "text/plain": [
       "Index(['A', 'B', 'C', 'D', 'E', 'F', 'G', 'H', 'I', 'J', 'K', 'L', 'M'], dtype='object', name='taxonID')"
      ]
     },
     "execution_count": 73,
     "metadata": {},
     "output_type": "execute_result"
    }
   ],
   "source": [
    "data.index"
   ]
  },
  {
   "cell_type": "code",
   "execution_count": 75,
   "metadata": {
    "collapsed": false
   },
   "outputs": [
    {
     "data": {
      "text/plain": [
       "Index(['Grimston Wood', 'Hagg Wood', 'Hetchell Wood N', 'Hetchell Wood S',\n",
       "       'Scoreby Wood', 'Sutton Wood', 'Wheldrake Wood'],\n",
       "      dtype='object')"
      ]
     },
     "execution_count": 75,
     "metadata": {},
     "output_type": "execute_result"
    }
   ],
   "source": [
    "data.columns"
   ]
  },
  {
   "cell_type": "markdown",
   "metadata": {},
   "source": [
    "We can loop through these `Index` type objects just like we were doing with the lists and dictionary keys earlier. Now that we've covered another way of handling data, it's time to introduce you to an alternative plotting library."
   ]
  },
  {
   "cell_type": "markdown",
   "metadata": {},
   "source": [
    "#### Alternatives to matplotlib"
   ]
  },
  {
   "cell_type": "markdown",
   "metadata": {},
   "source": [
    "The `matplotlib` library is very powerful and extremely flexible, and it is still widely used, but I find the interface a little hard to work with and it is often confusing for beginners. Over recent years, the range of options for plotting data in Python has expanded, with several new modules being introduced that make it easy to create many standard types of plot. (For a great overview of the many options for plotting in Python, I recommend Jake VanderPlas' talk, \"Python Visualisation Landscape\" from PyCon 2017 - available on YouTube at https://www.youtube.com/watch?v=FytuB8nFHPQ.)"
   ]
  },
  {
   "cell_type": "markdown",
   "metadata": {},
   "source": [
    "One example is the `bokeh` plotting library, which can be used to create attractive, interactive plots that render in HTML."
   ]
  },
  {
   "cell_type": "markdown",
   "metadata": {},
   "source": [
    "#### Simple bokeh Plots"
   ]
  },
  {
   "cell_type": "markdown",
   "metadata": {},
   "source": [
    "To provide a comparison of the two plotting libraries, we'll use one of Bokeh's methods with our Pandas dataframe to recreate the plots above.\n",
    "\n",
    "First, we need to import the relevant functions from the `bokeh.plotting` module:"
   ]
  },
  {
   "cell_type": "code",
   "execution_count": 76,
   "metadata": {
    "collapsed": false
   },
   "outputs": [],
   "source": [
    "from bokeh.plotting import figure, show, output_notebook, output_file"
   ]
  },
  {
   "cell_type": "markdown",
   "metadata": {},
   "source": [
    "Note that I have imported by `output_file` and `output_notebook` in the line above. We only need to use one of these, but which one will depend on the interface that you're working in. I will use `output_notebook` here because it allows me to plot the results directly in the Jupyter Notebook interface that this course was written in. If you're using a text editor, IDE such as Spyder, the Python shell, etc, you should use `output_file`, which will create an HTML file containing your plot(s).\n",
    "\n",
    "If not using Jupyter, you can call `output_file` as demonstrated below:"
   ]
  },
  {
   "cell_type": "markdown",
   "metadata": {
    "collapsed": true
   },
   "source": [
    "```Python\n",
    "output_file('myFirstPlot.html') # call the file whatever you like, but you should use a .html extension\n",
    "```"
   ]
  },
  {
   "cell_type": "markdown",
   "metadata": {},
   "source": [
    "After you have prepared your data (as we did above with Pandas), plotting with `bokeh.plotting` revolves around three steps: creating a Figure object; calling a plotting method on that object to add data points to the figure; calling the `show` function to render the figure. The second step can be performed multiple times, to add multiple sets/types of data points to the same figure.\n",
    "\n",
    "To demonstrate this, let's create a single plot of one of the sites described in our dataframe."
   ]
  },
  {
   "cell_type": "code",
   "execution_count": 80,
   "metadata": {
    "collapsed": false
   },
   "outputs": [
    {
     "data": {
      "text/html": [
       "\n",
       "    <div class=\"bk-root\">\n",
       "        <a href=\"https://bokeh.pydata.org\" target=\"_blank\" class=\"bk-logo bk-logo-small bk-logo-notebook\"></a>\n",
       "        <span id=\"6631dda7-8769-4ae3-a53d-ad5715f30f40\">Loading BokehJS ...</span>\n",
       "    </div>"
      ]
     },
     "metadata": {},
     "output_type": "display_data"
    },
    {
     "data": {
      "application/javascript": [
       "\n",
       "(function(root) {\n",
       "  function now() {\n",
       "    return new Date();\n",
       "  }\n",
       "\n",
       "  var force = true;\n",
       "\n",
       "  if (typeof (root._bokeh_onload_callbacks) === \"undefined\" || force === true) {\n",
       "    root._bokeh_onload_callbacks = [];\n",
       "    root._bokeh_is_loading = undefined;\n",
       "  }\n",
       "\n",
       "\n",
       "  \n",
       "  if (typeof (root._bokeh_timeout) === \"undefined\" || force === true) {\n",
       "    root._bokeh_timeout = Date.now() + 5000;\n",
       "    root._bokeh_failed_load = false;\n",
       "  }\n",
       "\n",
       "  var NB_LOAD_WARNING = {'data': {'text/html':\n",
       "     \"<div style='background-color: #fdd'>\\n\"+\n",
       "     \"<p>\\n\"+\n",
       "     \"BokehJS does not appear to have successfully loaded. If loading BokehJS from CDN, this \\n\"+\n",
       "     \"may be due to a slow or bad network connection. Possible fixes:\\n\"+\n",
       "     \"</p>\\n\"+\n",
       "     \"<ul>\\n\"+\n",
       "     \"<li>re-rerun `output_notebook()` to attempt to load from CDN again, or</li>\\n\"+\n",
       "     \"<li>use INLINE resources instead, as so:</li>\\n\"+\n",
       "     \"</ul>\\n\"+\n",
       "     \"<code>\\n\"+\n",
       "     \"from bokeh.resources import INLINE\\n\"+\n",
       "     \"output_notebook(resources=INLINE)\\n\"+\n",
       "     \"</code>\\n\"+\n",
       "     \"</div>\"}};\n",
       "\n",
       "  function display_loaded() {\n",
       "    if (root.Bokeh !== undefined) {\n",
       "      var el = document.getElementById(\"6631dda7-8769-4ae3-a53d-ad5715f30f40\");\n",
       "      if (el != null) {\n",
       "        el.textContent = \"BokehJS \" + Bokeh.version + \" successfully loaded.\";\n",
       "      }\n",
       "    } else if (Date.now() < root._bokeh_timeout) {\n",
       "      setTimeout(display_loaded, 100)\n",
       "    }\n",
       "  }\n",
       "\n",
       "\n",
       "  function run_callbacks() {\n",
       "    try {\n",
       "      root._bokeh_onload_callbacks.forEach(function(callback) { callback() });\n",
       "    }\n",
       "    finally {\n",
       "      delete root._bokeh_onload_callbacks\n",
       "    }\n",
       "    console.info(\"Bokeh: all callbacks have finished\");\n",
       "  }\n",
       "\n",
       "  function load_libs(js_urls, callback) {\n",
       "    root._bokeh_onload_callbacks.push(callback);\n",
       "    if (root._bokeh_is_loading > 0) {\n",
       "      console.log(\"Bokeh: BokehJS is being loaded, scheduling callback at\", now());\n",
       "      return null;\n",
       "    }\n",
       "    if (js_urls == null || js_urls.length === 0) {\n",
       "      run_callbacks();\n",
       "      return null;\n",
       "    }\n",
       "    console.log(\"Bokeh: BokehJS not loaded, scheduling load and callback at\", now());\n",
       "    root._bokeh_is_loading = js_urls.length;\n",
       "    for (var i = 0; i < js_urls.length; i++) {\n",
       "      var url = js_urls[i];\n",
       "      var s = document.createElement('script');\n",
       "      s.src = url;\n",
       "      s.async = false;\n",
       "      s.onreadystatechange = s.onload = function() {\n",
       "        root._bokeh_is_loading--;\n",
       "        if (root._bokeh_is_loading === 0) {\n",
       "          console.log(\"Bokeh: all BokehJS libraries loaded\");\n",
       "          run_callbacks()\n",
       "        }\n",
       "      };\n",
       "      s.onerror = function() {\n",
       "        console.warn(\"failed to load library \" + url);\n",
       "      };\n",
       "      console.log(\"Bokeh: injecting script tag for BokehJS library: \", url);\n",
       "      document.getElementsByTagName(\"head\")[0].appendChild(s);\n",
       "    }\n",
       "  };var element = document.getElementById(\"6631dda7-8769-4ae3-a53d-ad5715f30f40\");\n",
       "  if (element == null) {\n",
       "    console.log(\"Bokeh: ERROR: autoload.js configured with elementid '6631dda7-8769-4ae3-a53d-ad5715f30f40' but no matching script tag was found. \")\n",
       "    return false;\n",
       "  }\n",
       "\n",
       "  var js_urls = [\"https://cdn.pydata.org/bokeh/release/bokeh-0.12.7.min.js\", \"https://cdn.pydata.org/bokeh/release/bokeh-widgets-0.12.7.min.js\", \"https://cdn.pydata.org/bokeh/release/bokeh-tables-0.12.7.min.js\", \"https://cdn.pydata.org/bokeh/release/bokeh-gl-0.12.7.min.js\"];\n",
       "\n",
       "  var inline_js = [\n",
       "    function(Bokeh) {\n",
       "      Bokeh.set_log_level(\"info\");\n",
       "    },\n",
       "    \n",
       "    function(Bokeh) {\n",
       "      \n",
       "    },\n",
       "    \n",
       "    function(Bokeh) {\n",
       "      \n",
       "      document.getElementById(\"6631dda7-8769-4ae3-a53d-ad5715f30f40\").textContent = \"BokehJS is loading...\";\n",
       "    },\n",
       "    function(Bokeh) {\n",
       "      console.log(\"Bokeh: injecting CSS: https://cdn.pydata.org/bokeh/release/bokeh-0.12.7.min.css\");\n",
       "      Bokeh.embed.inject_css(\"https://cdn.pydata.org/bokeh/release/bokeh-0.12.7.min.css\");\n",
       "      console.log(\"Bokeh: injecting CSS: https://cdn.pydata.org/bokeh/release/bokeh-widgets-0.12.7.min.css\");\n",
       "      Bokeh.embed.inject_css(\"https://cdn.pydata.org/bokeh/release/bokeh-widgets-0.12.7.min.css\");\n",
       "      console.log(\"Bokeh: injecting CSS: https://cdn.pydata.org/bokeh/release/bokeh-tables-0.12.7.min.css\");\n",
       "      Bokeh.embed.inject_css(\"https://cdn.pydata.org/bokeh/release/bokeh-tables-0.12.7.min.css\");\n",
       "    }\n",
       "  ];\n",
       "\n",
       "  function run_inline_js() {\n",
       "    \n",
       "    if ((root.Bokeh !== undefined) || (force === true)) {\n",
       "      for (var i = 0; i < inline_js.length; i++) {\n",
       "        inline_js[i].call(root, root.Bokeh);\n",
       "      }if (force === true) {\n",
       "        display_loaded();\n",
       "      }} else if (Date.now() < root._bokeh_timeout) {\n",
       "      setTimeout(run_inline_js, 100);\n",
       "    } else if (!root._bokeh_failed_load) {\n",
       "      console.log(\"Bokeh: BokehJS failed to load within specified timeout.\");\n",
       "      root._bokeh_failed_load = true;\n",
       "    } else if (force !== true) {\n",
       "      var cell = $(document.getElementById(\"6631dda7-8769-4ae3-a53d-ad5715f30f40\")).parents('.cell').data().cell;\n",
       "      cell.output_area.append_execute_result(NB_LOAD_WARNING)\n",
       "    }\n",
       "\n",
       "  }\n",
       "\n",
       "  if (root._bokeh_is_loading === 0) {\n",
       "    console.log(\"Bokeh: BokehJS loaded, going straight to plotting\");\n",
       "    run_inline_js();\n",
       "  } else {\n",
       "    load_libs(js_urls, function() {\n",
       "      console.log(\"Bokeh: BokehJS plotting callback run at\", now());\n",
       "      run_inline_js();\n",
       "    });\n",
       "  }\n",
       "}(window));"
      ]
     },
     "metadata": {},
     "output_type": "display_data"
    },
    {
     "data": {
      "text/html": [
       "\n",
       "\n",
       "    <div class=\"bk-root\">\n",
       "        <div class=\"bk-plotdiv\" id=\"561c1a5b-e293-4e45-b2af-703c44758ab5\"></div>\n",
       "    </div>\n",
       "<script type=\"text/javascript\">\n",
       "  \n",
       "  (function(root) {\n",
       "    function now() {\n",
       "      return new Date();\n",
       "    }\n",
       "  \n",
       "    var force = false;\n",
       "  \n",
       "    if (typeof (root._bokeh_onload_callbacks) === \"undefined\" || force === true) {\n",
       "      root._bokeh_onload_callbacks = [];\n",
       "      root._bokeh_is_loading = undefined;\n",
       "    }\n",
       "  \n",
       "  \n",
       "    \n",
       "    if (typeof (root._bokeh_timeout) === \"undefined\" || force === true) {\n",
       "      root._bokeh_timeout = Date.now() + 0;\n",
       "      root._bokeh_failed_load = false;\n",
       "    }\n",
       "  \n",
       "    var NB_LOAD_WARNING = {'data': {'text/html':\n",
       "       \"<div style='background-color: #fdd'>\\n\"+\n",
       "       \"<p>\\n\"+\n",
       "       \"BokehJS does not appear to have successfully loaded. If loading BokehJS from CDN, this \\n\"+\n",
       "       \"may be due to a slow or bad network connection. Possible fixes:\\n\"+\n",
       "       \"</p>\\n\"+\n",
       "       \"<ul>\\n\"+\n",
       "       \"<li>re-rerun `output_notebook()` to attempt to load from CDN again, or</li>\\n\"+\n",
       "       \"<li>use INLINE resources instead, as so:</li>\\n\"+\n",
       "       \"</ul>\\n\"+\n",
       "       \"<code>\\n\"+\n",
       "       \"from bokeh.resources import INLINE\\n\"+\n",
       "       \"output_notebook(resources=INLINE)\\n\"+\n",
       "       \"</code>\\n\"+\n",
       "       \"</div>\"}};\n",
       "  \n",
       "    function display_loaded() {\n",
       "      if (root.Bokeh !== undefined) {\n",
       "        var el = document.getElementById(\"561c1a5b-e293-4e45-b2af-703c44758ab5\");\n",
       "        if (el != null) {\n",
       "          el.textContent = \"BokehJS \" + Bokeh.version + \" successfully loaded.\";\n",
       "        }\n",
       "      } else if (Date.now() < root._bokeh_timeout) {\n",
       "        setTimeout(display_loaded, 100)\n",
       "      }\n",
       "    }\n",
       "  \n",
       "  \n",
       "    function run_callbacks() {\n",
       "      try {\n",
       "        root._bokeh_onload_callbacks.forEach(function(callback) { callback() });\n",
       "      }\n",
       "      finally {\n",
       "        delete root._bokeh_onload_callbacks\n",
       "      }\n",
       "      console.info(\"Bokeh: all callbacks have finished\");\n",
       "    }\n",
       "  \n",
       "    function load_libs(js_urls, callback) {\n",
       "      root._bokeh_onload_callbacks.push(callback);\n",
       "      if (root._bokeh_is_loading > 0) {\n",
       "        console.log(\"Bokeh: BokehJS is being loaded, scheduling callback at\", now());\n",
       "        return null;\n",
       "      }\n",
       "      if (js_urls == null || js_urls.length === 0) {\n",
       "        run_callbacks();\n",
       "        return null;\n",
       "      }\n",
       "      console.log(\"Bokeh: BokehJS not loaded, scheduling load and callback at\", now());\n",
       "      root._bokeh_is_loading = js_urls.length;\n",
       "      for (var i = 0; i < js_urls.length; i++) {\n",
       "        var url = js_urls[i];\n",
       "        var s = document.createElement('script');\n",
       "        s.src = url;\n",
       "        s.async = false;\n",
       "        s.onreadystatechange = s.onload = function() {\n",
       "          root._bokeh_is_loading--;\n",
       "          if (root._bokeh_is_loading === 0) {\n",
       "            console.log(\"Bokeh: all BokehJS libraries loaded\");\n",
       "            run_callbacks()\n",
       "          }\n",
       "        };\n",
       "        s.onerror = function() {\n",
       "          console.warn(\"failed to load library \" + url);\n",
       "        };\n",
       "        console.log(\"Bokeh: injecting script tag for BokehJS library: \", url);\n",
       "        document.getElementsByTagName(\"head\")[0].appendChild(s);\n",
       "      }\n",
       "    };var element = document.getElementById(\"561c1a5b-e293-4e45-b2af-703c44758ab5\");\n",
       "    if (element == null) {\n",
       "      console.log(\"Bokeh: ERROR: autoload.js configured with elementid '561c1a5b-e293-4e45-b2af-703c44758ab5' but no matching script tag was found. \")\n",
       "      return false;\n",
       "    }\n",
       "  \n",
       "    var js_urls = [];\n",
       "  \n",
       "    var inline_js = [\n",
       "      function(Bokeh) {\n",
       "        (function() {\n",
       "          var fn = function() {\n",
       "            var docs_json = {\"b89bd849-2bad-46f3-bd82-7a8127dd28b5\":{\"roots\":{\"references\":[{\"attributes\":{},\"id\":\"33a15971-7345-4ac3-8a75-9f0a8eee5c86\",\"type\":\"ResetTool\"},{\"attributes\":{},\"id\":\"7f51ed4d-16e9-4079-8244-6b0ff02081de\",\"type\":\"SaveTool\"},{\"attributes\":{\"callback\":null},\"id\":\"b0576ca9-db0b-4e44-8cb2-9f897d54b18f\",\"type\":\"DataRange1d\"},{\"attributes\":{\"overlay\":{\"id\":\"a61df35b-bdd3-4ffe-abf8-13533020a18f\",\"type\":\"BoxAnnotation\"}},\"id\":\"e4b70b89-e55d-44b2-a996-572d71013fbc\",\"type\":\"BoxZoomTool\"},{\"attributes\":{},\"id\":\"29a67618-f327-49a2-9786-6055d3607899\",\"type\":\"BasicTicker\"},{\"attributes\":{},\"id\":\"7c3a4995-4128-4984-93dc-540e680520a3\",\"type\":\"CategoricalTickFormatter\"},{\"attributes\":{\"fill_alpha\":{\"value\":0.1},\"fill_color\":{\"value\":\"#1f77b4\"},\"line_alpha\":{\"value\":0.1},\"line_color\":{\"value\":\"#1f77b4\"},\"top\":{\"field\":\"top\"},\"width\":{\"value\":0.8},\"x\":{\"field\":\"x\"}},\"id\":\"9e0c63cf-54b0-4bdc-9276-8de0941594e7\",\"type\":\"VBar\"},{\"attributes\":{\"dimension\":1,\"plot\":{\"id\":\"8e901641-a985-4ce7-9455-309e5c3d11f6\",\"subtype\":\"Figure\",\"type\":\"Plot\"},\"ticker\":{\"id\":\"29a67618-f327-49a2-9786-6055d3607899\",\"type\":\"BasicTicker\"}},\"id\":\"1ef275e2-6a27-4e6b-9de1-993375370503\",\"type\":\"Grid\"},{\"attributes\":{},\"id\":\"92af5e07-860a-44ef-93d0-1270c8d79e9c\",\"type\":\"PanTool\"},{\"attributes\":{\"formatter\":{\"id\":\"7c3a4995-4128-4984-93dc-540e680520a3\",\"type\":\"CategoricalTickFormatter\"},\"plot\":{\"id\":\"8e901641-a985-4ce7-9455-309e5c3d11f6\",\"subtype\":\"Figure\",\"type\":\"Plot\"},\"ticker\":{\"id\":\"52b7b0eb-dfcd-4edf-bb10-e89f808a151c\",\"type\":\"CategoricalTicker\"}},\"id\":\"6268cf6e-1b58-4351-8e83-16af627b8132\",\"type\":\"CategoricalAxis\"},{\"attributes\":{\"bottom_units\":\"screen\",\"fill_alpha\":{\"value\":0.5},\"fill_color\":{\"value\":\"lightgrey\"},\"left_units\":\"screen\",\"level\":\"overlay\",\"line_alpha\":{\"value\":1.0},\"line_color\":{\"value\":\"black\"},\"line_dash\":[4,4],\"line_width\":{\"value\":2},\"plot\":null,\"render_mode\":\"css\",\"right_units\":\"screen\",\"top_units\":\"screen\"},\"id\":\"a61df35b-bdd3-4ffe-abf8-13533020a18f\",\"type\":\"BoxAnnotation\"},{\"attributes\":{\"plot\":{\"id\":\"8e901641-a985-4ce7-9455-309e5c3d11f6\",\"subtype\":\"Figure\",\"type\":\"Plot\"},\"ticker\":{\"id\":\"52b7b0eb-dfcd-4edf-bb10-e89f808a151c\",\"type\":\"CategoricalTicker\"}},\"id\":\"1b8aedfc-f82c-4910-8a15-7cb0f0a3627e\",\"type\":\"Grid\"},{\"attributes\":{\"source\":{\"id\":\"597a7de4-bb6d-4eec-b749-0762c3783850\",\"type\":\"ColumnDataSource\"}},\"id\":\"c487b3dd-e35b-4e15-a4fa-2d7d5ac30e27\",\"type\":\"CDSView\"},{\"attributes\":{\"data_source\":{\"id\":\"597a7de4-bb6d-4eec-b749-0762c3783850\",\"type\":\"ColumnDataSource\"},\"glyph\":{\"id\":\"2c42d95a-9986-419c-bd22-eb8f4df20b54\",\"type\":\"VBar\"},\"hover_glyph\":null,\"muted_glyph\":null,\"nonselection_glyph\":{\"id\":\"9e0c63cf-54b0-4bdc-9276-8de0941594e7\",\"type\":\"VBar\"},\"selection_glyph\":null,\"view\":{\"id\":\"c487b3dd-e35b-4e15-a4fa-2d7d5ac30e27\",\"type\":\"CDSView\"}},\"id\":\"4715d69e-f1c7-404b-8928-e98b84d02909\",\"type\":\"GlyphRenderer\"},{\"attributes\":{\"plot\":null,\"text\":\"\"},\"id\":\"65a2df2b-56b4-4ce1-bb86-964a520574b6\",\"type\":\"Title\"},{\"attributes\":{},\"id\":\"1a9ff0bd-88e2-4aaf-b8e1-7f343f73d0f6\",\"type\":\"BasicTickFormatter\"},{\"attributes\":{\"callback\":null,\"column_names\":[\"x\",\"top\"],\"data\":{\"top\":[0,91,22649,2949,901,0,9204,2040,8173,0,0,6781,9184],\"x\":[0.5,1.5,2.5,3.5,4.5,5.5,6.5,7.5,8.5,9.5,10.5,11.5,12.5]}},\"id\":\"597a7de4-bb6d-4eec-b749-0762c3783850\",\"type\":\"ColumnDataSource\"},{\"attributes\":{\"formatter\":{\"id\":\"1a9ff0bd-88e2-4aaf-b8e1-7f343f73d0f6\",\"type\":\"BasicTickFormatter\"},\"plot\":{\"id\":\"8e901641-a985-4ce7-9455-309e5c3d11f6\",\"subtype\":\"Figure\",\"type\":\"Plot\"},\"ticker\":{\"id\":\"29a67618-f327-49a2-9786-6055d3607899\",\"type\":\"BasicTicker\"}},\"id\":\"590f5bd1-1b26-420e-954e-0b912764a89a\",\"type\":\"LinearAxis\"},{\"attributes\":{},\"id\":\"52b7b0eb-dfcd-4edf-bb10-e89f808a151c\",\"type\":\"CategoricalTicker\"},{\"attributes\":{\"active_drag\":\"auto\",\"active_inspect\":\"auto\",\"active_scroll\":\"auto\",\"active_tap\":\"auto\",\"tools\":[{\"id\":\"92af5e07-860a-44ef-93d0-1270c8d79e9c\",\"type\":\"PanTool\"},{\"id\":\"01b992b2-e2f1-4390-849e-0b8ba51a0e2f\",\"type\":\"WheelZoomTool\"},{\"id\":\"e4b70b89-e55d-44b2-a996-572d71013fbc\",\"type\":\"BoxZoomTool\"},{\"id\":\"7f51ed4d-16e9-4079-8244-6b0ff02081de\",\"type\":\"SaveTool\"},{\"id\":\"33a15971-7345-4ac3-8a75-9f0a8eee5c86\",\"type\":\"ResetTool\"},{\"id\":\"14702bc8-6da0-48d6-abf6-4fb46a037b3c\",\"type\":\"HelpTool\"}]},\"id\":\"e590304c-c6a9-47d5-a8fd-40077e67b097\",\"type\":\"Toolbar\"},{\"attributes\":{\"below\":[{\"id\":\"6268cf6e-1b58-4351-8e83-16af627b8132\",\"type\":\"CategoricalAxis\"}],\"left\":[{\"id\":\"590f5bd1-1b26-420e-954e-0b912764a89a\",\"type\":\"LinearAxis\"}],\"plot_height\":400,\"renderers\":[{\"id\":\"6268cf6e-1b58-4351-8e83-16af627b8132\",\"type\":\"CategoricalAxis\"},{\"id\":\"1b8aedfc-f82c-4910-8a15-7cb0f0a3627e\",\"type\":\"Grid\"},{\"id\":\"590f5bd1-1b26-420e-954e-0b912764a89a\",\"type\":\"LinearAxis\"},{\"id\":\"1ef275e2-6a27-4e6b-9de1-993375370503\",\"type\":\"Grid\"},{\"id\":\"a61df35b-bdd3-4ffe-abf8-13533020a18f\",\"type\":\"BoxAnnotation\"},{\"id\":\"4715d69e-f1c7-404b-8928-e98b84d02909\",\"type\":\"GlyphRenderer\"}],\"title\":{\"id\":\"65a2df2b-56b4-4ce1-bb86-964a520574b6\",\"type\":\"Title\"},\"toolbar\":{\"id\":\"e590304c-c6a9-47d5-a8fd-40077e67b097\",\"type\":\"Toolbar\"},\"x_range\":{\"id\":\"f244e0ad-4a02-4e21-ae64-8735ab2139ba\",\"type\":\"FactorRange\"},\"x_scale\":{\"id\":\"11e238de-4cc6-4eb7-beb1-7fbe826e9397\",\"type\":\"CategoricalScale\"},\"y_range\":{\"id\":\"b0576ca9-db0b-4e44-8cb2-9f897d54b18f\",\"type\":\"DataRange1d\"},\"y_scale\":{\"id\":\"3c6ded71-7ab1-4b6e-b725-71ecda4bd373\",\"type\":\"LinearScale\"}},\"id\":\"8e901641-a985-4ce7-9455-309e5c3d11f6\",\"subtype\":\"Figure\",\"type\":\"Plot\"},{\"attributes\":{\"fill_color\":{\"value\":\"firebrick\"},\"line_color\":{\"value\":\"firebrick\"},\"top\":{\"field\":\"top\"},\"width\":{\"value\":0.8},\"x\":{\"field\":\"x\"}},\"id\":\"2c42d95a-9986-419c-bd22-eb8f4df20b54\",\"type\":\"VBar\"},{\"attributes\":{},\"id\":\"14702bc8-6da0-48d6-abf6-4fb46a037b3c\",\"type\":\"HelpTool\"},{\"attributes\":{},\"id\":\"3c6ded71-7ab1-4b6e-b725-71ecda4bd373\",\"type\":\"LinearScale\"},{\"attributes\":{\"callback\":null,\"factors\":[\"A\",\"B\",\"C\",\"D\",\"E\",\"F\",\"G\",\"H\",\"I\",\"J\",\"K\",\"L\",\"M\"]},\"id\":\"f244e0ad-4a02-4e21-ae64-8735ab2139ba\",\"type\":\"FactorRange\"},{\"attributes\":{},\"id\":\"11e238de-4cc6-4eb7-beb1-7fbe826e9397\",\"type\":\"CategoricalScale\"},{\"attributes\":{},\"id\":\"01b992b2-e2f1-4390-849e-0b8ba51a0e2f\",\"type\":\"WheelZoomTool\"}],\"root_ids\":[\"8e901641-a985-4ce7-9455-309e5c3d11f6\"]},\"title\":\"Bokeh Application\",\"version\":\"0.12.7\"}};\n",
       "            var render_items = [{\"docid\":\"b89bd849-2bad-46f3-bd82-7a8127dd28b5\",\"elementid\":\"561c1a5b-e293-4e45-b2af-703c44758ab5\",\"modelid\":\"8e901641-a985-4ce7-9455-309e5c3d11f6\"}];\n",
       "            \n",
       "            Bokeh.embed.embed_items(docs_json, render_items);\n",
       "          };\n",
       "          if (document.readyState != \"loading\") fn();\n",
       "          else document.addEventListener(\"DOMContentLoaded\", fn);\n",
       "        })();\n",
       "      },\n",
       "      function(Bokeh) {\n",
       "      }\n",
       "    ];\n",
       "  \n",
       "    function run_inline_js() {\n",
       "      \n",
       "      if ((root.Bokeh !== undefined) || (force === true)) {\n",
       "        for (var i = 0; i < inline_js.length; i++) {\n",
       "          inline_js[i].call(root, root.Bokeh);\n",
       "        }if (force === true) {\n",
       "          display_loaded();\n",
       "        }} else if (Date.now() < root._bokeh_timeout) {\n",
       "        setTimeout(run_inline_js, 100);\n",
       "      } else if (!root._bokeh_failed_load) {\n",
       "        console.log(\"Bokeh: BokehJS failed to load within specified timeout.\");\n",
       "        root._bokeh_failed_load = true;\n",
       "      } else if (force !== true) {\n",
       "        var cell = $(document.getElementById(\"561c1a5b-e293-4e45-b2af-703c44758ab5\")).parents('.cell').data().cell;\n",
       "        cell.output_area.append_execute_result(NB_LOAD_WARNING)\n",
       "      }\n",
       "  \n",
       "    }\n",
       "  \n",
       "    if (root._bokeh_is_loading === 0) {\n",
       "      console.log(\"Bokeh: BokehJS loaded, going straight to plotting\");\n",
       "      run_inline_js();\n",
       "    } else {\n",
       "      load_libs(js_urls, function() {\n",
       "        console.log(\"Bokeh: BokehJS plotting callback run at\", now());\n",
       "        run_inline_js();\n",
       "      });\n",
       "    }\n",
       "  }(window));\n",
       "</script>"
      ]
     },
     "metadata": {},
     "output_type": "display_data"
    }
   ],
   "source": [
    "output_notebook()\n",
    "\n",
    "p = figure(plot_width=600, plot_height=400, x_range=list(data.index))\n",
    "p.vbar(x=[n+0.5 for n in range(13)], \n",
    "       width=0.8, \n",
    "       bottom=0, \n",
    "       top=data['Wheldrake Wood'], \n",
    "       color=\"firebrick\")\n",
    "\n",
    "show(p)"
   ]
  },
  {
   "cell_type": "markdown",
   "metadata": {},
   "source": [
    "Great! We've produced our first `bokeh` figure! You might have noticed that the scaling of axes has been taken care of for you, and there is a toolbar along the top of the plot. Included in these tools is panning and scroll zooming, alowing you to zoom in and out of the plot and navigate around to better interrogate plotted data. This can be really helpful, but can also get a little annoying when we want our view of the data to remain static. That's ok: it's really easy to switch off:"
   ]
  },
  {
   "cell_type": "code",
   "execution_count": 100,
   "metadata": {
    "collapsed": false
   },
   "outputs": [
    {
     "data": {
      "text/html": [
       "\n",
       "\n",
       "    <div class=\"bk-root\">\n",
       "        <div class=\"bk-plotdiv\" id=\"bc2b4ed2-4969-4cfd-a4cc-336b1dc5922e\"></div>\n",
       "    </div>\n",
       "<script type=\"text/javascript\">\n",
       "  \n",
       "  (function(root) {\n",
       "    function now() {\n",
       "      return new Date();\n",
       "    }\n",
       "  \n",
       "    var force = false;\n",
       "  \n",
       "    if (typeof (root._bokeh_onload_callbacks) === \"undefined\" || force === true) {\n",
       "      root._bokeh_onload_callbacks = [];\n",
       "      root._bokeh_is_loading = undefined;\n",
       "    }\n",
       "  \n",
       "  \n",
       "    \n",
       "    if (typeof (root._bokeh_timeout) === \"undefined\" || force === true) {\n",
       "      root._bokeh_timeout = Date.now() + 0;\n",
       "      root._bokeh_failed_load = false;\n",
       "    }\n",
       "  \n",
       "    var NB_LOAD_WARNING = {'data': {'text/html':\n",
       "       \"<div style='background-color: #fdd'>\\n\"+\n",
       "       \"<p>\\n\"+\n",
       "       \"BokehJS does not appear to have successfully loaded. If loading BokehJS from CDN, this \\n\"+\n",
       "       \"may be due to a slow or bad network connection. Possible fixes:\\n\"+\n",
       "       \"</p>\\n\"+\n",
       "       \"<ul>\\n\"+\n",
       "       \"<li>re-rerun `output_notebook()` to attempt to load from CDN again, or</li>\\n\"+\n",
       "       \"<li>use INLINE resources instead, as so:</li>\\n\"+\n",
       "       \"</ul>\\n\"+\n",
       "       \"<code>\\n\"+\n",
       "       \"from bokeh.resources import INLINE\\n\"+\n",
       "       \"output_notebook(resources=INLINE)\\n\"+\n",
       "       \"</code>\\n\"+\n",
       "       \"</div>\"}};\n",
       "  \n",
       "    function display_loaded() {\n",
       "      if (root.Bokeh !== undefined) {\n",
       "        var el = document.getElementById(\"bc2b4ed2-4969-4cfd-a4cc-336b1dc5922e\");\n",
       "        if (el != null) {\n",
       "          el.textContent = \"BokehJS \" + Bokeh.version + \" successfully loaded.\";\n",
       "        }\n",
       "      } else if (Date.now() < root._bokeh_timeout) {\n",
       "        setTimeout(display_loaded, 100)\n",
       "      }\n",
       "    }\n",
       "  \n",
       "  \n",
       "    function run_callbacks() {\n",
       "      try {\n",
       "        root._bokeh_onload_callbacks.forEach(function(callback) { callback() });\n",
       "      }\n",
       "      finally {\n",
       "        delete root._bokeh_onload_callbacks\n",
       "      }\n",
       "      console.info(\"Bokeh: all callbacks have finished\");\n",
       "    }\n",
       "  \n",
       "    function load_libs(js_urls, callback) {\n",
       "      root._bokeh_onload_callbacks.push(callback);\n",
       "      if (root._bokeh_is_loading > 0) {\n",
       "        console.log(\"Bokeh: BokehJS is being loaded, scheduling callback at\", now());\n",
       "        return null;\n",
       "      }\n",
       "      if (js_urls == null || js_urls.length === 0) {\n",
       "        run_callbacks();\n",
       "        return null;\n",
       "      }\n",
       "      console.log(\"Bokeh: BokehJS not loaded, scheduling load and callback at\", now());\n",
       "      root._bokeh_is_loading = js_urls.length;\n",
       "      for (var i = 0; i < js_urls.length; i++) {\n",
       "        var url = js_urls[i];\n",
       "        var s = document.createElement('script');\n",
       "        s.src = url;\n",
       "        s.async = false;\n",
       "        s.onreadystatechange = s.onload = function() {\n",
       "          root._bokeh_is_loading--;\n",
       "          if (root._bokeh_is_loading === 0) {\n",
       "            console.log(\"Bokeh: all BokehJS libraries loaded\");\n",
       "            run_callbacks()\n",
       "          }\n",
       "        };\n",
       "        s.onerror = function() {\n",
       "          console.warn(\"failed to load library \" + url);\n",
       "        };\n",
       "        console.log(\"Bokeh: injecting script tag for BokehJS library: \", url);\n",
       "        document.getElementsByTagName(\"head\")[0].appendChild(s);\n",
       "      }\n",
       "    };var element = document.getElementById(\"bc2b4ed2-4969-4cfd-a4cc-336b1dc5922e\");\n",
       "    if (element == null) {\n",
       "      console.log(\"Bokeh: ERROR: autoload.js configured with elementid 'bc2b4ed2-4969-4cfd-a4cc-336b1dc5922e' but no matching script tag was found. \")\n",
       "      return false;\n",
       "    }\n",
       "  \n",
       "    var js_urls = [];\n",
       "  \n",
       "    var inline_js = [\n",
       "      function(Bokeh) {\n",
       "        (function() {\n",
       "          var fn = function() {\n",
       "            var docs_json = {\"d566c012-7444-4e2b-bb99-72e7c24b10b9\":{\"roots\":{\"references\":[{\"attributes\":{\"fill_color\":{\"value\":\"firebrick\"},\"line_color\":{\"value\":\"firebrick\"},\"top\":{\"field\":\"top\"},\"width\":{\"value\":0.8},\"x\":{\"field\":\"x\"}},\"id\":\"b546f054-b624-4c64-9199-da74e538f533\",\"type\":\"VBar\"},{\"attributes\":{\"callback\":null,\"column_names\":[\"x\",\"top\"],\"data\":{\"top\":[0,91,22649,2949,901,0,9204,2040,8173,0,0,6781,9184],\"x\":[0.5,1.5,2.5,3.5,4.5,5.5,6.5,7.5,8.5,9.5,10.5,11.5,12.5]}},\"id\":\"f83599c6-8e7b-4c9a-8764-3e2055499a44\",\"type\":\"ColumnDataSource\"},{\"attributes\":{\"callback\":null},\"id\":\"459510c0-cdcd-44a9-8744-63523d400a79\",\"type\":\"DataRange1d\"},{\"attributes\":{},\"id\":\"9faa56eb-112b-42b5-80d8-97eae9966e7b\",\"type\":\"BasicTickFormatter\"},{\"attributes\":{},\"id\":\"8b9f45a9-cef1-49b7-a722-5037c1200c8e\",\"type\":\"CategoricalScale\"},{\"attributes\":{\"formatter\":{\"id\":\"9faa56eb-112b-42b5-80d8-97eae9966e7b\",\"type\":\"BasicTickFormatter\"},\"plot\":{\"id\":\"712e1cbf-4359-4866-af2c-ddfa9364a646\",\"subtype\":\"Figure\",\"type\":\"Plot\"},\"ticker\":{\"id\":\"c6df9d0a-7144-4e5b-85ca-1c11c6720084\",\"type\":\"BasicTicker\"}},\"id\":\"8bf6b8b0-6279-4824-88da-5e148d560cf0\",\"type\":\"LinearAxis\"},{\"attributes\":{\"dimension\":1,\"plot\":{\"id\":\"712e1cbf-4359-4866-af2c-ddfa9364a646\",\"subtype\":\"Figure\",\"type\":\"Plot\"},\"ticker\":{\"id\":\"c6df9d0a-7144-4e5b-85ca-1c11c6720084\",\"type\":\"BasicTicker\"}},\"id\":\"22d8fb3e-5aaf-440b-a33d-b6b8372a1a04\",\"type\":\"Grid\"},{\"attributes\":{\"source\":{\"id\":\"f83599c6-8e7b-4c9a-8764-3e2055499a44\",\"type\":\"ColumnDataSource\"}},\"id\":\"99ba9978-75f8-4f67-9798-58e9d0f7cb98\",\"type\":\"CDSView\"},{\"attributes\":{\"active_drag\":\"auto\",\"active_inspect\":\"auto\",\"active_scroll\":\"auto\",\"active_tap\":\"auto\"},\"id\":\"83a4d12d-afb5-46e8-af85-2b13db54df5f\",\"type\":\"Toolbar\"},{\"attributes\":{},\"id\":\"f09d233a-3fdd-49a1-9f4f-33f14c97d13a\",\"type\":\"LinearScale\"},{\"attributes\":{},\"id\":\"c6df9d0a-7144-4e5b-85ca-1c11c6720084\",\"type\":\"BasicTicker\"},{\"attributes\":{\"fill_alpha\":{\"value\":0.1},\"fill_color\":{\"value\":\"#1f77b4\"},\"line_alpha\":{\"value\":0.1},\"line_color\":{\"value\":\"#1f77b4\"},\"top\":{\"field\":\"top\"},\"width\":{\"value\":0.8},\"x\":{\"field\":\"x\"}},\"id\":\"127a7edb-0b26-43cf-b301-5bd8c4003db5\",\"type\":\"VBar\"},{\"attributes\":{},\"id\":\"73226d1b-18b3-40df-b55b-f00d9003cfcd\",\"type\":\"CategoricalTickFormatter\"},{\"attributes\":{\"formatter\":{\"id\":\"73226d1b-18b3-40df-b55b-f00d9003cfcd\",\"type\":\"CategoricalTickFormatter\"},\"plot\":{\"id\":\"712e1cbf-4359-4866-af2c-ddfa9364a646\",\"subtype\":\"Figure\",\"type\":\"Plot\"},\"ticker\":{\"id\":\"3f3fb596-4918-4a23-ab85-3e19dd5dbc2b\",\"type\":\"CategoricalTicker\"}},\"id\":\"ac760973-745a-42ad-a578-80e7ddd6aadd\",\"type\":\"CategoricalAxis\"},{\"attributes\":{\"plot\":{\"id\":\"712e1cbf-4359-4866-af2c-ddfa9364a646\",\"subtype\":\"Figure\",\"type\":\"Plot\"},\"ticker\":{\"id\":\"3f3fb596-4918-4a23-ab85-3e19dd5dbc2b\",\"type\":\"CategoricalTicker\"}},\"id\":\"8eb88ee9-41c5-4ab4-8521-1bf570a10b05\",\"type\":\"Grid\"},{\"attributes\":{},\"id\":\"3f3fb596-4918-4a23-ab85-3e19dd5dbc2b\",\"type\":\"CategoricalTicker\"},{\"attributes\":{\"data_source\":{\"id\":\"f83599c6-8e7b-4c9a-8764-3e2055499a44\",\"type\":\"ColumnDataSource\"},\"glyph\":{\"id\":\"b546f054-b624-4c64-9199-da74e538f533\",\"type\":\"VBar\"},\"hover_glyph\":null,\"muted_glyph\":null,\"nonselection_glyph\":{\"id\":\"127a7edb-0b26-43cf-b301-5bd8c4003db5\",\"type\":\"VBar\"},\"selection_glyph\":null,\"view\":{\"id\":\"99ba9978-75f8-4f67-9798-58e9d0f7cb98\",\"type\":\"CDSView\"}},\"id\":\"36f6f33e-69aa-46c4-9309-823d3415a42c\",\"type\":\"GlyphRenderer\"},{\"attributes\":{\"callback\":null,\"factors\":[\"A\",\"B\",\"C\",\"D\",\"E\",\"F\",\"G\",\"H\",\"I\",\"J\",\"K\",\"L\",\"M\"]},\"id\":\"de2ba766-190c-4103-9300-4e6b5646af0d\",\"type\":\"FactorRange\"},{\"attributes\":{\"below\":[{\"id\":\"ac760973-745a-42ad-a578-80e7ddd6aadd\",\"type\":\"CategoricalAxis\"}],\"left\":[{\"id\":\"8bf6b8b0-6279-4824-88da-5e148d560cf0\",\"type\":\"LinearAxis\"}],\"plot_height\":400,\"renderers\":[{\"id\":\"ac760973-745a-42ad-a578-80e7ddd6aadd\",\"type\":\"CategoricalAxis\"},{\"id\":\"8eb88ee9-41c5-4ab4-8521-1bf570a10b05\",\"type\":\"Grid\"},{\"id\":\"8bf6b8b0-6279-4824-88da-5e148d560cf0\",\"type\":\"LinearAxis\"},{\"id\":\"22d8fb3e-5aaf-440b-a33d-b6b8372a1a04\",\"type\":\"Grid\"},{\"id\":\"36f6f33e-69aa-46c4-9309-823d3415a42c\",\"type\":\"GlyphRenderer\"}],\"title\":{\"id\":\"eb84d2f6-af55-4906-b328-3e4a24fdf2d7\",\"type\":\"Title\"},\"toolbar\":{\"id\":\"83a4d12d-afb5-46e8-af85-2b13db54df5f\",\"type\":\"Toolbar\"},\"x_range\":{\"id\":\"de2ba766-190c-4103-9300-4e6b5646af0d\",\"type\":\"FactorRange\"},\"x_scale\":{\"id\":\"8b9f45a9-cef1-49b7-a722-5037c1200c8e\",\"type\":\"CategoricalScale\"},\"y_range\":{\"id\":\"459510c0-cdcd-44a9-8744-63523d400a79\",\"type\":\"DataRange1d\"},\"y_scale\":{\"id\":\"f09d233a-3fdd-49a1-9f4f-33f14c97d13a\",\"type\":\"LinearScale\"}},\"id\":\"712e1cbf-4359-4866-af2c-ddfa9364a646\",\"subtype\":\"Figure\",\"type\":\"Plot\"},{\"attributes\":{\"plot\":null,\"text\":\"\"},\"id\":\"eb84d2f6-af55-4906-b328-3e4a24fdf2d7\",\"type\":\"Title\"}],\"root_ids\":[\"712e1cbf-4359-4866-af2c-ddfa9364a646\"]},\"title\":\"Bokeh Application\",\"version\":\"0.12.7\"}};\n",
       "            var render_items = [{\"docid\":\"d566c012-7444-4e2b-bb99-72e7c24b10b9\",\"elementid\":\"bc2b4ed2-4969-4cfd-a4cc-336b1dc5922e\",\"modelid\":\"712e1cbf-4359-4866-af2c-ddfa9364a646\"}];\n",
       "            \n",
       "            Bokeh.embed.embed_items(docs_json, render_items);\n",
       "          };\n",
       "          if (document.readyState != \"loading\") fn();\n",
       "          else document.addEventListener(\"DOMContentLoaded\", fn);\n",
       "        })();\n",
       "      },\n",
       "      function(Bokeh) {\n",
       "      }\n",
       "    ];\n",
       "  \n",
       "    function run_inline_js() {\n",
       "      \n",
       "      if ((root.Bokeh !== undefined) || (force === true)) {\n",
       "        for (var i = 0; i < inline_js.length; i++) {\n",
       "          inline_js[i].call(root, root.Bokeh);\n",
       "        }if (force === true) {\n",
       "          display_loaded();\n",
       "        }} else if (Date.now() < root._bokeh_timeout) {\n",
       "        setTimeout(run_inline_js, 100);\n",
       "      } else if (!root._bokeh_failed_load) {\n",
       "        console.log(\"Bokeh: BokehJS failed to load within specified timeout.\");\n",
       "        root._bokeh_failed_load = true;\n",
       "      } else if (force !== true) {\n",
       "        var cell = $(document.getElementById(\"bc2b4ed2-4969-4cfd-a4cc-336b1dc5922e\")).parents('.cell').data().cell;\n",
       "        cell.output_area.append_execute_result(NB_LOAD_WARNING)\n",
       "      }\n",
       "  \n",
       "    }\n",
       "  \n",
       "    if (root._bokeh_is_loading === 0) {\n",
       "      console.log(\"Bokeh: BokehJS loaded, going straight to plotting\");\n",
       "      run_inline_js();\n",
       "    } else {\n",
       "      load_libs(js_urls, function() {\n",
       "        console.log(\"Bokeh: BokehJS plotting callback run at\", now());\n",
       "        run_inline_js();\n",
       "      });\n",
       "    }\n",
       "  }(window));\n",
       "</script>"
      ]
     },
     "metadata": {},
     "output_type": "display_data"
    }
   ],
   "source": [
    "p = figure(plot_width=600, plot_height=400, x_range=list(data.index), tools=[])\n",
    "p.vbar(x=[n+0.5 for n in range(13)], \n",
    "       width=0.8, \n",
    "       bottom=0, \n",
    "       top=data['Wheldrake Wood'], \n",
    "       color=\"firebrick\")\n",
    "\n",
    "show(p)"
   ]
  },
  {
   "cell_type": "markdown",
   "metadata": {},
   "source": [
    "In the codeblock above, we first created a figure, `p`, with set dimensions and specified the range on the x-axis to be the rownames (index) from our dataframe.\n",
    "\n",
    "Next, we called the `vbar` method of `p`, to draw vertical bars on the figure. This method is given multiple arguments, which are covered individually below:\n",
    "\n",
    "- the mid-points of the bars are specified via the `x` argument: `x=[n+05 for n in range(13)]`. The value provided to `x` is a _list comprehension_ - a list of numbers created on the fly using the `range` function discussed earlier. To see why this list comprehension is necessary, try replacing it with only a call to `list(range(13))`.\n",
    "- `width` specifies the desired width of the bars. This is similar to the matplotlib version we have already seen.\n",
    "- `bottom` specifies the lower boundary of each bar. We set this to zero.\n",
    "- `top` specifies the upper boundary of each bar. This is where we provide the count values for our site, by accessing the approriate column of the dataframe.\n",
    "- `color` allows us to set the color of the bars. We could provide multiple values in a list if we wanted to.\n",
    "\n",
    "Once the bars have been added to the figure, we call `show` to render the plot. Hopefully, when you ran this you saw a similar output to the plot above."
   ]
  },
  {
   "cell_type": "markdown",
   "metadata": {},
   "source": [
    "#### _Exercise 4.8_"
   ]
  },
  {
   "cell_type": "markdown",
   "metadata": {},
   "source": [
    "Try adjusting the code above to add an appropriate title to the plot. Can you change the colour of the bars? "
   ]
  },
  {
   "cell_type": "markdown",
   "metadata": {},
   "source": [
    "Now that you have an example of plotting with Bokeh, let's look at how to arrange multiple plots into a specific layout. Bokeh provides several functions and objects for creating and handling plot layouts, which are collected in the `bokeh.io` module. Here, we will only use one of them:"
   ]
  },
  {
   "cell_type": "code",
   "execution_count": 81,
   "metadata": {
    "collapsed": true
   },
   "outputs": [],
   "source": [
    "from bokeh.io import gridplot"
   ]
  },
  {
   "cell_type": "markdown",
   "metadata": {},
   "source": [
    "`gridplot` can be used to arrange multiple plots in a grid. The function takes lists of figures as arguments, with each list rendered as a row of plots in the grid. To demonstrate this let's create a few simple plots, using some of the other plotting methods of the Figure object."
   ]
  },
  {
   "cell_type": "code",
   "execution_count": 98,
   "metadata": {
    "collapsed": false
   },
   "outputs": [
    {
     "data": {
      "text/html": [
       "\n",
       "\n",
       "    <div class=\"bk-root\">\n",
       "        <div class=\"bk-plotdiv\" id=\"cbbe3a2b-e77d-4d50-a79a-03fdc5bf1f88\"></div>\n",
       "    </div>\n",
       "<script type=\"text/javascript\">\n",
       "  \n",
       "  (function(root) {\n",
       "    function now() {\n",
       "      return new Date();\n",
       "    }\n",
       "  \n",
       "    var force = false;\n",
       "  \n",
       "    if (typeof (root._bokeh_onload_callbacks) === \"undefined\" || force === true) {\n",
       "      root._bokeh_onload_callbacks = [];\n",
       "      root._bokeh_is_loading = undefined;\n",
       "    }\n",
       "  \n",
       "  \n",
       "    \n",
       "    if (typeof (root._bokeh_timeout) === \"undefined\" || force === true) {\n",
       "      root._bokeh_timeout = Date.now() + 0;\n",
       "      root._bokeh_failed_load = false;\n",
       "    }\n",
       "  \n",
       "    var NB_LOAD_WARNING = {'data': {'text/html':\n",
       "       \"<div style='background-color: #fdd'>\\n\"+\n",
       "       \"<p>\\n\"+\n",
       "       \"BokehJS does not appear to have successfully loaded. If loading BokehJS from CDN, this \\n\"+\n",
       "       \"may be due to a slow or bad network connection. Possible fixes:\\n\"+\n",
       "       \"</p>\\n\"+\n",
       "       \"<ul>\\n\"+\n",
       "       \"<li>re-rerun `output_notebook()` to attempt to load from CDN again, or</li>\\n\"+\n",
       "       \"<li>use INLINE resources instead, as so:</li>\\n\"+\n",
       "       \"</ul>\\n\"+\n",
       "       \"<code>\\n\"+\n",
       "       \"from bokeh.resources import INLINE\\n\"+\n",
       "       \"output_notebook(resources=INLINE)\\n\"+\n",
       "       \"</code>\\n\"+\n",
       "       \"</div>\"}};\n",
       "  \n",
       "    function display_loaded() {\n",
       "      if (root.Bokeh !== undefined) {\n",
       "        var el = document.getElementById(\"cbbe3a2b-e77d-4d50-a79a-03fdc5bf1f88\");\n",
       "        if (el != null) {\n",
       "          el.textContent = \"BokehJS \" + Bokeh.version + \" successfully loaded.\";\n",
       "        }\n",
       "      } else if (Date.now() < root._bokeh_timeout) {\n",
       "        setTimeout(display_loaded, 100)\n",
       "      }\n",
       "    }\n",
       "  \n",
       "  \n",
       "    function run_callbacks() {\n",
       "      try {\n",
       "        root._bokeh_onload_callbacks.forEach(function(callback) { callback() });\n",
       "      }\n",
       "      finally {\n",
       "        delete root._bokeh_onload_callbacks\n",
       "      }\n",
       "      console.info(\"Bokeh: all callbacks have finished\");\n",
       "    }\n",
       "  \n",
       "    function load_libs(js_urls, callback) {\n",
       "      root._bokeh_onload_callbacks.push(callback);\n",
       "      if (root._bokeh_is_loading > 0) {\n",
       "        console.log(\"Bokeh: BokehJS is being loaded, scheduling callback at\", now());\n",
       "        return null;\n",
       "      }\n",
       "      if (js_urls == null || js_urls.length === 0) {\n",
       "        run_callbacks();\n",
       "        return null;\n",
       "      }\n",
       "      console.log(\"Bokeh: BokehJS not loaded, scheduling load and callback at\", now());\n",
       "      root._bokeh_is_loading = js_urls.length;\n",
       "      for (var i = 0; i < js_urls.length; i++) {\n",
       "        var url = js_urls[i];\n",
       "        var s = document.createElement('script');\n",
       "        s.src = url;\n",
       "        s.async = false;\n",
       "        s.onreadystatechange = s.onload = function() {\n",
       "          root._bokeh_is_loading--;\n",
       "          if (root._bokeh_is_loading === 0) {\n",
       "            console.log(\"Bokeh: all BokehJS libraries loaded\");\n",
       "            run_callbacks()\n",
       "          }\n",
       "        };\n",
       "        s.onerror = function() {\n",
       "          console.warn(\"failed to load library \" + url);\n",
       "        };\n",
       "        console.log(\"Bokeh: injecting script tag for BokehJS library: \", url);\n",
       "        document.getElementsByTagName(\"head\")[0].appendChild(s);\n",
       "      }\n",
       "    };var element = document.getElementById(\"cbbe3a2b-e77d-4d50-a79a-03fdc5bf1f88\");\n",
       "    if (element == null) {\n",
       "      console.log(\"Bokeh: ERROR: autoload.js configured with elementid 'cbbe3a2b-e77d-4d50-a79a-03fdc5bf1f88' but no matching script tag was found. \")\n",
       "      return false;\n",
       "    }\n",
       "  \n",
       "    var js_urls = [];\n",
       "  \n",
       "    var inline_js = [\n",
       "      function(Bokeh) {\n",
       "        (function() {\n",
       "          var fn = function() {\n",
       "            var docs_json = {\"3915d434-ff2f-4cab-befa-5fe9351d3b08\":{\"roots\":{\"references\":[{\"attributes\":{},\"id\":\"3787581d-0fcc-40b8-9ad5-a4a6f70bcbce\",\"type\":\"BasicTickFormatter\"},{\"attributes\":{\"plot\":{\"id\":\"e9b86ade-3b5d-465f-bd89-356608c4b2fc\",\"subtype\":\"Figure\",\"type\":\"Plot\"},\"ticker\":{\"id\":\"4de9e185-2875-477e-9ac5-443c218d991d\",\"type\":\"BasicTicker\"}},\"id\":\"0e4663c7-be44-4be8-9f18-9221c9c7c6ae\",\"type\":\"Grid\"},{\"attributes\":{\"data_source\":{\"id\":\"db6c21d2-eeaa-4795-8153-a9437c75c278\",\"type\":\"ColumnDataSource\"},\"glyph\":{\"id\":\"66775f62-3eeb-45f6-bf1c-f339f8f0f395\",\"type\":\"HBar\"},\"hover_glyph\":null,\"muted_glyph\":null,\"nonselection_glyph\":{\"id\":\"698d6bb5-db82-4095-ab87-2e3ee4d65e79\",\"type\":\"HBar\"},\"selection_glyph\":null,\"view\":{\"id\":\"288ec48e-870c-465e-9d4c-6ace75ac486d\",\"type\":\"CDSView\"}},\"id\":\"70f4598e-6fe0-477e-a84a-6b1c173e821c\",\"type\":\"GlyphRenderer\"},{\"attributes\":{\"active_drag\":\"auto\",\"active_inspect\":\"auto\",\"active_scroll\":\"auto\",\"active_tap\":\"auto\",\"tools\":[{\"id\":\"e0e69e65-a494-4e20-8dbe-57787cca2c99\",\"type\":\"PanTool\"},{\"id\":\"a97d7e73-7797-4f88-9b1e-6a46f1eab819\",\"type\":\"WheelZoomTool\"},{\"id\":\"9975cbc1-84a6-4a2c-b747-04c2351cdc7f\",\"type\":\"BoxZoomTool\"},{\"id\":\"b1de08bc-8e10-472f-b69a-b27d4934bc6f\",\"type\":\"SaveTool\"},{\"id\":\"c99e2697-bf6f-4e68-aba9-0b9602dd9ced\",\"type\":\"ResetTool\"},{\"id\":\"04b7b3d4-b251-4657-ba64-387bf6ce8a9f\",\"type\":\"HelpTool\"}]},\"id\":\"0f373427-48d5-4234-b23a-c442104bc668\",\"type\":\"Toolbar\"},{\"attributes\":{},\"id\":\"fdd44c32-24c0-40e0-acf1-386ec3780d4a\",\"type\":\"HelpTool\"},{\"attributes\":{\"dimension\":1,\"plot\":{\"id\":\"e7c9aff1-0657-4558-a1c2-ff17744c003f\",\"subtype\":\"Figure\",\"type\":\"Plot\"},\"ticker\":{\"id\":\"108abd35-5bb6-47fc-ab6d-cba0cb6a9468\",\"type\":\"BasicTicker\"}},\"id\":\"1bb896f8-e06b-4843-82c5-8c8a3bbdea1f\",\"type\":\"Grid\"},{\"attributes\":{\"overlay\":{\"id\":\"25ea45f5-09f3-46f8-9e3d-fc956e2bb7f5\",\"type\":\"BoxAnnotation\"}},\"id\":\"c7bb00c3-3d97-40d3-8d59-51d8030ae6eb\",\"type\":\"BoxZoomTool\"},{\"attributes\":{\"formatter\":{\"id\":\"b2f87217-2d5a-447e-b1d2-7c158938a5a6\",\"type\":\"BasicTickFormatter\"},\"plot\":{\"id\":\"e7c9aff1-0657-4558-a1c2-ff17744c003f\",\"subtype\":\"Figure\",\"type\":\"Plot\"},\"ticker\":{\"id\":\"a4502560-bc95-4053-ab5f-2bc01169ebd0\",\"type\":\"BasicTicker\"}},\"id\":\"8b87f819-831e-4bca-b97b-74832a045644\",\"type\":\"LinearAxis\"},{\"attributes\":{\"bottom_units\":\"screen\",\"fill_alpha\":{\"value\":0.5},\"fill_color\":{\"value\":\"lightgrey\"},\"left_units\":\"screen\",\"level\":\"overlay\",\"line_alpha\":{\"value\":1.0},\"line_color\":{\"value\":\"black\"},\"line_dash\":[4,4],\"line_width\":{\"value\":2},\"plot\":null,\"render_mode\":\"css\",\"right_units\":\"screen\",\"top_units\":\"screen\"},\"id\":\"25ea45f5-09f3-46f8-9e3d-fc956e2bb7f5\",\"type\":\"BoxAnnotation\"},{\"attributes\":{},\"id\":\"639b78ea-dad4-4648-911d-edff568ae25f\",\"type\":\"BasicTickFormatter\"},{\"attributes\":{\"callback\":null,\"column_names\":[\"x\",\"y\"],\"data\":{\"x\":[1,2,3,4,5],\"y\":[3,1,2,1,2]}},\"id\":\"9998fe33-4bd8-4a57-82ae-9e2e94db4e26\",\"type\":\"ColumnDataSource\"},{\"attributes\":{},\"id\":\"40611441-c2d6-45f5-a3a0-938d90975b57\",\"type\":\"LinearScale\"},{\"attributes\":{},\"id\":\"e32f20f9-82d4-4063-b6ed-f7559f6da77d\",\"type\":\"SaveTool\"},{\"attributes\":{\"formatter\":{\"id\":\"0b437e08-8f35-490b-883a-3a1a9f45ea1f\",\"type\":\"BasicTickFormatter\"},\"plot\":{\"id\":\"e7c9aff1-0657-4558-a1c2-ff17744c003f\",\"subtype\":\"Figure\",\"type\":\"Plot\"},\"ticker\":{\"id\":\"108abd35-5bb6-47fc-ab6d-cba0cb6a9468\",\"type\":\"BasicTicker\"}},\"id\":\"e90b3ac4-2e12-48cb-b7ef-1469e500329b\",\"type\":\"LinearAxis\"},{\"attributes\":{},\"id\":\"e0e69e65-a494-4e20-8dbe-57787cca2c99\",\"type\":\"PanTool\"},{\"attributes\":{\"children\":[{\"id\":\"e9b86ade-3b5d-465f-bd89-356608c4b2fc\",\"subtype\":\"Figure\",\"type\":\"Plot\"},{\"id\":\"e7c9aff1-0657-4558-a1c2-ff17744c003f\",\"subtype\":\"Figure\",\"type\":\"Plot\"}]},\"id\":\"8a733645-473f-4e1a-bacd-53378bf99997\",\"type\":\"Row\"},{\"attributes\":{},\"id\":\"a4502560-bc95-4053-ab5f-2bc01169ebd0\",\"type\":\"BasicTicker\"},{\"attributes\":{\"line_alpha\":{\"value\":0.75},\"line_color\":{\"value\":\"coral\"},\"line_width\":{\"value\":5},\"x\":{\"field\":\"x\"},\"y\":{\"field\":\"y\"}},\"id\":\"9563768b-78a7-4190-b27e-3a1ce55bc0f9\",\"type\":\"Line\"},{\"attributes\":{},\"id\":\"751428b6-6906-46c6-8dda-8f5b2f99838e\",\"type\":\"PanTool\"},{\"attributes\":{\"plot\":null,\"text\":\"\"},\"id\":\"af67470a-bc65-46f2-bc50-e5e767bd1b4e\",\"type\":\"Title\"},{\"attributes\":{\"bottom_units\":\"screen\",\"fill_alpha\":{\"value\":0.5},\"fill_color\":{\"value\":\"lightgrey\"},\"left_units\":\"screen\",\"level\":\"overlay\",\"line_alpha\":{\"value\":1.0},\"line_color\":{\"value\":\"black\"},\"line_dash\":[4,4],\"line_width\":{\"value\":2},\"plot\":null,\"render_mode\":\"css\",\"right_units\":\"screen\",\"top_units\":\"screen\"},\"id\":\"d95172af-655c-4c76-9189-8312a8c54dc0\",\"type\":\"BoxAnnotation\"},{\"attributes\":{},\"id\":\"239e135a-bab8-4af5-a357-5e98abe7049d\",\"type\":\"WheelZoomTool\"},{\"attributes\":{\"bottom_units\":\"screen\",\"fill_alpha\":{\"value\":0.5},\"fill_color\":{\"value\":\"lightgrey\"},\"left_units\":\"screen\",\"level\":\"overlay\",\"line_alpha\":{\"value\":1.0},\"line_color\":{\"value\":\"black\"},\"line_dash\":[4,4],\"line_width\":{\"value\":2},\"plot\":null,\"render_mode\":\"css\",\"right_units\":\"screen\",\"top_units\":\"screen\"},\"id\":\"a96fee63-aa29-4948-99ce-3c8f7a094289\",\"type\":\"BoxAnnotation\"},{\"attributes\":{},\"id\":\"15637e82-c0d5-409e-9b23-37f80412fae7\",\"type\":\"BasicTickFormatter\"},{\"attributes\":{\"below\":[{\"id\":\"8b87f819-831e-4bca-b97b-74832a045644\",\"type\":\"LinearAxis\"}],\"left\":[{\"id\":\"e90b3ac4-2e12-48cb-b7ef-1469e500329b\",\"type\":\"LinearAxis\"}],\"plot_height\":300,\"plot_width\":300,\"renderers\":[{\"id\":\"8b87f819-831e-4bca-b97b-74832a045644\",\"type\":\"LinearAxis\"},{\"id\":\"8bcac07c-0747-40f6-9b2d-7c800618434e\",\"type\":\"Grid\"},{\"id\":\"e90b3ac4-2e12-48cb-b7ef-1469e500329b\",\"type\":\"LinearAxis\"},{\"id\":\"1bb896f8-e06b-4843-82c5-8c8a3bbdea1f\",\"type\":\"Grid\"},{\"id\":\"a96fee63-aa29-4948-99ce-3c8f7a094289\",\"type\":\"BoxAnnotation\"},{\"id\":\"537bba14-4058-40f9-9595-6beb6742af17\",\"type\":\"GlyphRenderer\"}],\"title\":{\"id\":\"496ffff2-d5ad-4333-a797-cb8a21a98c22\",\"type\":\"Title\"},\"toolbar\":{\"id\":\"f5f9c08d-0821-4633-a059-db5bf7bf4c4c\",\"type\":\"Toolbar\"},\"toolbar_location\":null,\"x_range\":{\"id\":\"7f46c9d4-954d-48c4-8d97-b74a09b3b1ae\",\"type\":\"DataRange1d\"},\"x_scale\":{\"id\":\"ef3d4aad-0c41-47c2-8554-a9e92b4e188c\",\"type\":\"LinearScale\"},\"y_range\":{\"id\":\"117fd9f4-fce7-4f05-a5c1-87be4b666112\",\"type\":\"DataRange1d\"},\"y_scale\":{\"id\":\"23af5584-8a41-415c-9e16-debf77843bc0\",\"type\":\"LinearScale\"}},\"id\":\"e7c9aff1-0657-4558-a1c2-ff17744c003f\",\"subtype\":\"Figure\",\"type\":\"Plot\"},{\"attributes\":{\"fill_alpha\":{\"value\":0.1},\"fill_color\":{\"value\":\"#1f77b4\"},\"height\":{\"value\":0.5},\"line_alpha\":{\"value\":0.1},\"line_color\":{\"value\":\"#1f77b4\"},\"right\":{\"field\":\"right\"},\"y\":{\"field\":\"y\"}},\"id\":\"698d6bb5-db82-4095-ab87-2e3ee4d65e79\",\"type\":\"HBar\"},{\"attributes\":{\"fill_alpha\":{\"value\":0.5},\"fill_color\":{\"value\":\"navy\"},\"line_alpha\":{\"value\":0.5},\"line_color\":{\"value\":\"navy\"},\"size\":{\"units\":\"screen\",\"value\":20},\"x\":{\"field\":\"x\"},\"y\":{\"field\":\"y\"}},\"id\":\"90cf9aa4-263b-4be6-bd31-cf9038fc1709\",\"type\":\"Circle\"},{\"attributes\":{\"data_source\":{\"id\":\"5be1d41f-57a8-4d57-99cc-14b164b3a0b8\",\"type\":\"ColumnDataSource\"},\"glyph\":{\"id\":\"90cf9aa4-263b-4be6-bd31-cf9038fc1709\",\"type\":\"Circle\"},\"hover_glyph\":null,\"muted_glyph\":null,\"nonselection_glyph\":{\"id\":\"bdcb621b-bbd6-4a5a-b44b-2bce6785f928\",\"type\":\"Circle\"},\"selection_glyph\":null,\"view\":{\"id\":\"040bbba4-7958-4e2d-ac5f-f6e508df0d41\",\"type\":\"CDSView\"}},\"id\":\"1df28af9-8ae9-4d06-8e1c-8652e33def12\",\"type\":\"GlyphRenderer\"},{\"attributes\":{},\"id\":\"a8bf1f6b-b625-4ae1-a25d-160647b2889e\",\"type\":\"PanTool\"},{\"attributes\":{\"callback\":null,\"column_names\":[\"y\",\"right\"],\"data\":{\"right\":[1.2,3.7,2.7],\"y\":[3,2,1]}},\"id\":\"db6c21d2-eeaa-4795-8153-a9437c75c278\",\"type\":\"ColumnDataSource\"},{\"attributes\":{},\"id\":\"6b20d926-7eb8-419b-97c6-67075cb7c302\",\"type\":\"WheelZoomTool\"},{\"attributes\":{\"line_alpha\":{\"value\":0.1},\"line_color\":{\"value\":\"#1f77b4\"},\"line_width\":{\"value\":5},\"x\":{\"field\":\"x\"},\"y\":{\"field\":\"y\"}},\"id\":\"2881b76e-91e1-416d-b030-033e5db02d7b\",\"type\":\"Line\"},{\"attributes\":{\"children\":[{\"id\":\"8a733645-473f-4e1a-bacd-53378bf99997\",\"type\":\"Row\"},{\"id\":\"b418aa41-784a-4906-832c-7e524387df01\",\"type\":\"Row\"}]},\"id\":\"f1581f5d-8248-40d4-94d2-a574b5fd6506\",\"type\":\"Column\"},{\"attributes\":{},\"id\":\"108abd35-5bb6-47fc-ab6d-cba0cb6a9468\",\"type\":\"BasicTicker\"},{\"attributes\":{\"callback\":null},\"id\":\"ef3be405-df6d-491a-8196-4738bc96faa2\",\"type\":\"DataRange1d\"},{\"attributes\":{\"callback\":null},\"id\":\"95beed16-bdf8-4f25-98d3-4b7202c8995f\",\"type\":\"DataRange1d\"},{\"attributes\":{\"below\":[{\"id\":\"c69042b3-16e1-49ff-8706-aaf920623aee\",\"type\":\"LinearAxis\"}],\"left\":[{\"id\":\"024b4ad3-55c9-443c-81f5-cbf6899900b3\",\"type\":\"LinearAxis\"}],\"plot_height\":300,\"plot_width\":300,\"renderers\":[{\"id\":\"c69042b3-16e1-49ff-8706-aaf920623aee\",\"type\":\"LinearAxis\"},{\"id\":\"d5b03270-e9b3-43cd-9cee-02b2a030bb27\",\"type\":\"Grid\"},{\"id\":\"024b4ad3-55c9-443c-81f5-cbf6899900b3\",\"type\":\"LinearAxis\"},{\"id\":\"a0ecd0b9-91be-435c-981f-9631ac3729f5\",\"type\":\"Grid\"},{\"id\":\"25ea45f5-09f3-46f8-9e3d-fc956e2bb7f5\",\"type\":\"BoxAnnotation\"},{\"id\":\"70f4598e-6fe0-477e-a84a-6b1c173e821c\",\"type\":\"GlyphRenderer\"}],\"title\":{\"id\":\"af67470a-bc65-46f2-bc50-e5e767bd1b4e\",\"type\":\"Title\"},\"toolbar\":{\"id\":\"77959af2-a7d0-4a40-bede-ca46b597d016\",\"type\":\"Toolbar\"},\"toolbar_location\":null,\"x_range\":{\"id\":\"77ef9605-79cd-434c-a875-04a85a29eae1\",\"type\":\"DataRange1d\"},\"x_scale\":{\"id\":\"73edc931-f4e9-435c-bea2-5193dd14433e\",\"type\":\"LinearScale\"},\"y_range\":{\"id\":\"ef3be405-df6d-491a-8196-4738bc96faa2\",\"type\":\"DataRange1d\"},\"y_scale\":{\"id\":\"40611441-c2d6-45f5-a3a0-938d90975b57\",\"type\":\"LinearScale\"}},\"id\":\"c5fdd0ea-89bd-449b-8b43-f3dac32006fc\",\"subtype\":\"Figure\",\"type\":\"Plot\"},{\"attributes\":{},\"id\":\"b2f87217-2d5a-447e-b1d2-7c158938a5a6\",\"type\":\"BasicTickFormatter\"},{\"attributes\":{\"callback\":null,\"column_names\":[\"x\",\"y\"],\"data\":{\"x\":[1,2,3,4,5],\"y\":[3,1,2,1,2]}},\"id\":\"5be1d41f-57a8-4d57-99cc-14b164b3a0b8\",\"type\":\"ColumnDataSource\"},{\"attributes\":{\"sizing_mode\":\"scale_width\",\"toolbar_location\":\"above\",\"tools\":[{\"id\":\"e0e69e65-a494-4e20-8dbe-57787cca2c99\",\"type\":\"PanTool\"},{\"id\":\"a97d7e73-7797-4f88-9b1e-6a46f1eab819\",\"type\":\"WheelZoomTool\"},{\"id\":\"9975cbc1-84a6-4a2c-b747-04c2351cdc7f\",\"type\":\"BoxZoomTool\"},{\"id\":\"b1de08bc-8e10-472f-b69a-b27d4934bc6f\",\"type\":\"SaveTool\"},{\"id\":\"c99e2697-bf6f-4e68-aba9-0b9602dd9ced\",\"type\":\"ResetTool\"},{\"id\":\"04b7b3d4-b251-4657-ba64-387bf6ce8a9f\",\"type\":\"HelpTool\"},{\"id\":\"751428b6-6906-46c6-8dda-8f5b2f99838e\",\"type\":\"PanTool\"},{\"id\":\"6b20d926-7eb8-419b-97c6-67075cb7c302\",\"type\":\"WheelZoomTool\"},{\"id\":\"1477b95d-9f8b-48c7-b1ee-fb23ec35a184\",\"type\":\"BoxZoomTool\"},{\"id\":\"e32f20f9-82d4-4063-b6ed-f7559f6da77d\",\"type\":\"SaveTool\"},{\"id\":\"52f8d893-1f88-4d50-ad3f-507c6c3c8d9b\",\"type\":\"ResetTool\"},{\"id\":\"67eee2c1-90fc-4285-9d2c-042c0e0fd7cf\",\"type\":\"HelpTool\"},{\"id\":\"a8bf1f6b-b625-4ae1-a25d-160647b2889e\",\"type\":\"PanTool\"},{\"id\":\"239e135a-bab8-4af5-a357-5e98abe7049d\",\"type\":\"WheelZoomTool\"},{\"id\":\"c7bb00c3-3d97-40d3-8d59-51d8030ae6eb\",\"type\":\"BoxZoomTool\"},{\"id\":\"88e1c067-0010-4d2b-ba8a-9c2bbb77e675\",\"type\":\"SaveTool\"},{\"id\":\"607969d8-e7fb-4b11-8d97-0d750cc28e42\",\"type\":\"ResetTool\"},{\"id\":\"fdd44c32-24c0-40e0-acf1-386ec3780d4a\",\"type\":\"HelpTool\"}]},\"id\":\"6aeeb56e-88a0-4567-98bf-cf96cf5ff392\",\"type\":\"ToolbarBox\"},{\"attributes\":{\"active_drag\":\"auto\",\"active_inspect\":\"auto\",\"active_scroll\":\"auto\",\"active_tap\":\"auto\",\"tools\":[{\"id\":\"a8bf1f6b-b625-4ae1-a25d-160647b2889e\",\"type\":\"PanTool\"},{\"id\":\"239e135a-bab8-4af5-a357-5e98abe7049d\",\"type\":\"WheelZoomTool\"},{\"id\":\"c7bb00c3-3d97-40d3-8d59-51d8030ae6eb\",\"type\":\"BoxZoomTool\"},{\"id\":\"88e1c067-0010-4d2b-ba8a-9c2bbb77e675\",\"type\":\"SaveTool\"},{\"id\":\"607969d8-e7fb-4b11-8d97-0d750cc28e42\",\"type\":\"ResetTool\"},{\"id\":\"fdd44c32-24c0-40e0-acf1-386ec3780d4a\",\"type\":\"HelpTool\"}]},\"id\":\"77959af2-a7d0-4a40-bede-ca46b597d016\",\"type\":\"Toolbar\"},{\"attributes\":{\"formatter\":{\"id\":\"d0006a03-c3d3-4be7-b8ea-f362715b0599\",\"type\":\"BasicTickFormatter\"},\"plot\":{\"id\":\"e9b86ade-3b5d-465f-bd89-356608c4b2fc\",\"subtype\":\"Figure\",\"type\":\"Plot\"},\"ticker\":{\"id\":\"4de9e185-2875-477e-9ac5-443c218d991d\",\"type\":\"BasicTicker\"}},\"id\":\"deb288a6-bef0-4573-8e81-94bc5d086eac\",\"type\":\"LinearAxis\"},{\"attributes\":{\"children\":[{\"id\":\"c5fdd0ea-89bd-449b-8b43-f3dac32006fc\",\"subtype\":\"Figure\",\"type\":\"Plot\"}]},\"id\":\"b418aa41-784a-4906-832c-7e524387df01\",\"type\":\"Row\"},{\"attributes\":{},\"id\":\"a97d7e73-7797-4f88-9b1e-6a46f1eab819\",\"type\":\"WheelZoomTool\"},{\"attributes\":{\"callback\":null},\"id\":\"dcfb34af-b704-46a7-b6cd-9b37e8ba1592\",\"type\":\"DataRange1d\"},{\"attributes\":{\"source\":{\"id\":\"5be1d41f-57a8-4d57-99cc-14b164b3a0b8\",\"type\":\"ColumnDataSource\"}},\"id\":\"040bbba4-7958-4e2d-ac5f-f6e508df0d41\",\"type\":\"CDSView\"},{\"attributes\":{},\"id\":\"04b7b3d4-b251-4657-ba64-387bf6ce8a9f\",\"type\":\"HelpTool\"},{\"attributes\":{},\"id\":\"88e1c067-0010-4d2b-ba8a-9c2bbb77e675\",\"type\":\"SaveTool\"},{\"attributes\":{},\"id\":\"1971ac51-2c02-479b-a954-3effcf4b1f28\",\"type\":\"BasicTicker\"},{\"attributes\":{\"source\":{\"id\":\"9998fe33-4bd8-4a57-82ae-9e2e94db4e26\",\"type\":\"ColumnDataSource\"}},\"id\":\"1fb425ef-9391-4ef2-8967-406beb3184c0\",\"type\":\"CDSView\"},{\"attributes\":{},\"id\":\"aaf397e9-ef4a-4f3c-a9b0-d5372ade7eb5\",\"type\":\"LinearScale\"},{\"attributes\":{\"plot\":{\"id\":\"e7c9aff1-0657-4558-a1c2-ff17744c003f\",\"subtype\":\"Figure\",\"type\":\"Plot\"},\"ticker\":{\"id\":\"a4502560-bc95-4053-ab5f-2bc01169ebd0\",\"type\":\"BasicTicker\"}},\"id\":\"8bcac07c-0747-40f6-9b2d-7c800618434e\",\"type\":\"Grid\"},{\"attributes\":{\"source\":{\"id\":\"db6c21d2-eeaa-4795-8153-a9437c75c278\",\"type\":\"ColumnDataSource\"}},\"id\":\"288ec48e-870c-465e-9d4c-6ace75ac486d\",\"type\":\"CDSView\"},{\"attributes\":{},\"id\":\"c99e2697-bf6f-4e68-aba9-0b9602dd9ced\",\"type\":\"ResetTool\"},{\"attributes\":{\"children\":[{\"id\":\"6aeeb56e-88a0-4567-98bf-cf96cf5ff392\",\"type\":\"ToolbarBox\"},{\"id\":\"f1581f5d-8248-40d4-94d2-a574b5fd6506\",\"type\":\"Column\"}]},\"id\":\"cfe13ed8-d5f6-4f73-9ba2-85d2ebfa995e\",\"type\":\"Column\"},{\"attributes\":{},\"id\":\"ef3d4aad-0c41-47c2-8554-a9e92b4e188c\",\"type\":\"LinearScale\"},{\"attributes\":{},\"id\":\"b1de08bc-8e10-472f-b69a-b27d4934bc6f\",\"type\":\"SaveTool\"},{\"attributes\":{\"fill_alpha\":{\"value\":0.6},\"fill_color\":{\"value\":\"darkorange\"},\"height\":{\"value\":0.5},\"line_alpha\":{\"value\":0.6},\"line_color\":{\"value\":\"darkorange\"},\"right\":{\"field\":\"right\"},\"y\":{\"field\":\"y\"}},\"id\":\"66775f62-3eeb-45f6-bf1c-f339f8f0f395\",\"type\":\"HBar\"},{\"attributes\":{\"formatter\":{\"id\":\"639b78ea-dad4-4648-911d-edff568ae25f\",\"type\":\"BasicTickFormatter\"},\"plot\":{\"id\":\"e9b86ade-3b5d-465f-bd89-356608c4b2fc\",\"subtype\":\"Figure\",\"type\":\"Plot\"},\"ticker\":{\"id\":\"1971ac51-2c02-479b-a954-3effcf4b1f28\",\"type\":\"BasicTicker\"}},\"id\":\"c82f43af-ac75-40e1-9427-a02398bc0f33\",\"type\":\"LinearAxis\"},{\"attributes\":{},\"id\":\"6bad95e1-7a86-404a-952b-b6046735fb65\",\"type\":\"BasicTicker\"},{\"attributes\":{},\"id\":\"d0006a03-c3d3-4be7-b8ea-f362715b0599\",\"type\":\"BasicTickFormatter\"},{\"attributes\":{},\"id\":\"73edc931-f4e9-435c-bea2-5193dd14433e\",\"type\":\"LinearScale\"},{\"attributes\":{\"overlay\":{\"id\":\"a96fee63-aa29-4948-99ce-3c8f7a094289\",\"type\":\"BoxAnnotation\"}},\"id\":\"1477b95d-9f8b-48c7-b1ee-fb23ec35a184\",\"type\":\"BoxZoomTool\"},{\"attributes\":{\"data_source\":{\"id\":\"9998fe33-4bd8-4a57-82ae-9e2e94db4e26\",\"type\":\"ColumnDataSource\"},\"glyph\":{\"id\":\"9563768b-78a7-4190-b27e-3a1ce55bc0f9\",\"type\":\"Line\"},\"hover_glyph\":null,\"muted_glyph\":null,\"nonselection_glyph\":{\"id\":\"2881b76e-91e1-416d-b030-033e5db02d7b\",\"type\":\"Line\"},\"selection_glyph\":null,\"view\":{\"id\":\"1fb425ef-9391-4ef2-8967-406beb3184c0\",\"type\":\"CDSView\"}},\"id\":\"537bba14-4058-40f9-9595-6beb6742af17\",\"type\":\"GlyphRenderer\"},{\"attributes\":{\"below\":[{\"id\":\"deb288a6-bef0-4573-8e81-94bc5d086eac\",\"type\":\"LinearAxis\"}],\"left\":[{\"id\":\"c82f43af-ac75-40e1-9427-a02398bc0f33\",\"type\":\"LinearAxis\"}],\"plot_height\":300,\"plot_width\":300,\"renderers\":[{\"id\":\"deb288a6-bef0-4573-8e81-94bc5d086eac\",\"type\":\"LinearAxis\"},{\"id\":\"0e4663c7-be44-4be8-9f18-9221c9c7c6ae\",\"type\":\"Grid\"},{\"id\":\"c82f43af-ac75-40e1-9427-a02398bc0f33\",\"type\":\"LinearAxis\"},{\"id\":\"cbfdc73d-a952-4f52-aed8-d0f928370848\",\"type\":\"Grid\"},{\"id\":\"d95172af-655c-4c76-9189-8312a8c54dc0\",\"type\":\"BoxAnnotation\"},{\"id\":\"1df28af9-8ae9-4d06-8e1c-8652e33def12\",\"type\":\"GlyphRenderer\"}],\"title\":{\"id\":\"ff55b1de-d1f7-4a8e-97e7-67e4fa437d1c\",\"type\":\"Title\"},\"toolbar\":{\"id\":\"0f373427-48d5-4234-b23a-c442104bc668\",\"type\":\"Toolbar\"},\"toolbar_location\":null,\"x_range\":{\"id\":\"dcfb34af-b704-46a7-b6cd-9b37e8ba1592\",\"type\":\"DataRange1d\"},\"x_scale\":{\"id\":\"aaf397e9-ef4a-4f3c-a9b0-d5372ade7eb5\",\"type\":\"LinearScale\"},\"y_range\":{\"id\":\"95beed16-bdf8-4f25-98d3-4b7202c8995f\",\"type\":\"DataRange1d\"},\"y_scale\":{\"id\":\"586c0b73-d411-4a5a-856f-505820aa5f48\",\"type\":\"LinearScale\"}},\"id\":\"e9b86ade-3b5d-465f-bd89-356608c4b2fc\",\"subtype\":\"Figure\",\"type\":\"Plot\"},{\"attributes\":{\"callback\":null},\"id\":\"117fd9f4-fce7-4f05-a5c1-87be4b666112\",\"type\":\"DataRange1d\"},{\"attributes\":{\"formatter\":{\"id\":\"15637e82-c0d5-409e-9b23-37f80412fae7\",\"type\":\"BasicTickFormatter\"},\"plot\":{\"id\":\"c5fdd0ea-89bd-449b-8b43-f3dac32006fc\",\"subtype\":\"Figure\",\"type\":\"Plot\"},\"ticker\":{\"id\":\"6bad95e1-7a86-404a-952b-b6046735fb65\",\"type\":\"BasicTicker\"}},\"id\":\"024b4ad3-55c9-443c-81f5-cbf6899900b3\",\"type\":\"LinearAxis\"},{\"attributes\":{},\"id\":\"23af5584-8a41-415c-9e16-debf77843bc0\",\"type\":\"LinearScale\"},{\"attributes\":{\"plot\":{\"id\":\"c5fdd0ea-89bd-449b-8b43-f3dac32006fc\",\"subtype\":\"Figure\",\"type\":\"Plot\"},\"ticker\":{\"id\":\"e7ff15a8-547e-443c-b79b-028b6219ea0f\",\"type\":\"BasicTicker\"}},\"id\":\"d5b03270-e9b3-43cd-9cee-02b2a030bb27\",\"type\":\"Grid\"},{\"attributes\":{},\"id\":\"4de9e185-2875-477e-9ac5-443c218d991d\",\"type\":\"BasicTicker\"},{\"attributes\":{\"fill_alpha\":{\"value\":0.1},\"fill_color\":{\"value\":\"#1f77b4\"},\"line_alpha\":{\"value\":0.1},\"line_color\":{\"value\":\"#1f77b4\"},\"size\":{\"units\":\"screen\",\"value\":20},\"x\":{\"field\":\"x\"},\"y\":{\"field\":\"y\"}},\"id\":\"bdcb621b-bbd6-4a5a-b44b-2bce6785f928\",\"type\":\"Circle\"},{\"attributes\":{},\"id\":\"0b437e08-8f35-490b-883a-3a1a9f45ea1f\",\"type\":\"BasicTickFormatter\"},{\"attributes\":{},\"id\":\"586c0b73-d411-4a5a-856f-505820aa5f48\",\"type\":\"LinearScale\"},{\"attributes\":{\"dimension\":1,\"plot\":{\"id\":\"e9b86ade-3b5d-465f-bd89-356608c4b2fc\",\"subtype\":\"Figure\",\"type\":\"Plot\"},\"ticker\":{\"id\":\"1971ac51-2c02-479b-a954-3effcf4b1f28\",\"type\":\"BasicTicker\"}},\"id\":\"cbfdc73d-a952-4f52-aed8-d0f928370848\",\"type\":\"Grid\"},{\"attributes\":{\"formatter\":{\"id\":\"3787581d-0fcc-40b8-9ad5-a4a6f70bcbce\",\"type\":\"BasicTickFormatter\"},\"plot\":{\"id\":\"c5fdd0ea-89bd-449b-8b43-f3dac32006fc\",\"subtype\":\"Figure\",\"type\":\"Plot\"},\"ticker\":{\"id\":\"e7ff15a8-547e-443c-b79b-028b6219ea0f\",\"type\":\"BasicTicker\"}},\"id\":\"c69042b3-16e1-49ff-8706-aaf920623aee\",\"type\":\"LinearAxis\"},{\"attributes\":{},\"id\":\"e7ff15a8-547e-443c-b79b-028b6219ea0f\",\"type\":\"BasicTicker\"},{\"attributes\":{},\"id\":\"607969d8-e7fb-4b11-8d97-0d750cc28e42\",\"type\":\"ResetTool\"},{\"attributes\":{},\"id\":\"52f8d893-1f88-4d50-ad3f-507c6c3c8d9b\",\"type\":\"ResetTool\"},{\"attributes\":{\"callback\":null},\"id\":\"7f46c9d4-954d-48c4-8d97-b74a09b3b1ae\",\"type\":\"DataRange1d\"},{\"attributes\":{\"plot\":null,\"text\":\"\"},\"id\":\"496ffff2-d5ad-4333-a797-cb8a21a98c22\",\"type\":\"Title\"},{\"attributes\":{\"dimension\":1,\"plot\":{\"id\":\"c5fdd0ea-89bd-449b-8b43-f3dac32006fc\",\"subtype\":\"Figure\",\"type\":\"Plot\"},\"ticker\":{\"id\":\"6bad95e1-7a86-404a-952b-b6046735fb65\",\"type\":\"BasicTicker\"}},\"id\":\"a0ecd0b9-91be-435c-981f-9631ac3729f5\",\"type\":\"Grid\"},{\"attributes\":{\"callback\":null},\"id\":\"77ef9605-79cd-434c-a875-04a85a29eae1\",\"type\":\"DataRange1d\"},{\"attributes\":{},\"id\":\"67eee2c1-90fc-4285-9d2c-042c0e0fd7cf\",\"type\":\"HelpTool\"},{\"attributes\":{\"active_drag\":\"auto\",\"active_inspect\":\"auto\",\"active_scroll\":\"auto\",\"active_tap\":\"auto\",\"tools\":[{\"id\":\"751428b6-6906-46c6-8dda-8f5b2f99838e\",\"type\":\"PanTool\"},{\"id\":\"6b20d926-7eb8-419b-97c6-67075cb7c302\",\"type\":\"WheelZoomTool\"},{\"id\":\"1477b95d-9f8b-48c7-b1ee-fb23ec35a184\",\"type\":\"BoxZoomTool\"},{\"id\":\"e32f20f9-82d4-4063-b6ed-f7559f6da77d\",\"type\":\"SaveTool\"},{\"id\":\"52f8d893-1f88-4d50-ad3f-507c6c3c8d9b\",\"type\":\"ResetTool\"},{\"id\":\"67eee2c1-90fc-4285-9d2c-042c0e0fd7cf\",\"type\":\"HelpTool\"}]},\"id\":\"f5f9c08d-0821-4633-a059-db5bf7bf4c4c\",\"type\":\"Toolbar\"},{\"attributes\":{\"plot\":null,\"text\":\"\"},\"id\":\"ff55b1de-d1f7-4a8e-97e7-67e4fa437d1c\",\"type\":\"Title\"},{\"attributes\":{\"overlay\":{\"id\":\"d95172af-655c-4c76-9189-8312a8c54dc0\",\"type\":\"BoxAnnotation\"}},\"id\":\"9975cbc1-84a6-4a2c-b747-04c2351cdc7f\",\"type\":\"BoxZoomTool\"}],\"root_ids\":[\"cfe13ed8-d5f6-4f73-9ba2-85d2ebfa995e\"]},\"title\":\"Bokeh Application\",\"version\":\"0.12.7\"}};\n",
       "            var render_items = [{\"docid\":\"3915d434-ff2f-4cab-befa-5fe9351d3b08\",\"elementid\":\"cbbe3a2b-e77d-4d50-a79a-03fdc5bf1f88\",\"modelid\":\"cfe13ed8-d5f6-4f73-9ba2-85d2ebfa995e\"}];\n",
       "            \n",
       "            Bokeh.embed.embed_items(docs_json, render_items);\n",
       "          };\n",
       "          if (document.readyState != \"loading\") fn();\n",
       "          else document.addEventListener(\"DOMContentLoaded\", fn);\n",
       "        })();\n",
       "      },\n",
       "      function(Bokeh) {\n",
       "      }\n",
       "    ];\n",
       "  \n",
       "    function run_inline_js() {\n",
       "      \n",
       "      if ((root.Bokeh !== undefined) || (force === true)) {\n",
       "        for (var i = 0; i < inline_js.length; i++) {\n",
       "          inline_js[i].call(root, root.Bokeh);\n",
       "        }if (force === true) {\n",
       "          display_loaded();\n",
       "        }} else if (Date.now() < root._bokeh_timeout) {\n",
       "        setTimeout(run_inline_js, 100);\n",
       "      } else if (!root._bokeh_failed_load) {\n",
       "        console.log(\"Bokeh: BokehJS failed to load within specified timeout.\");\n",
       "        root._bokeh_failed_load = true;\n",
       "      } else if (force !== true) {\n",
       "        var cell = $(document.getElementById(\"cbbe3a2b-e77d-4d50-a79a-03fdc5bf1f88\")).parents('.cell').data().cell;\n",
       "        cell.output_area.append_execute_result(NB_LOAD_WARNING)\n",
       "      }\n",
       "  \n",
       "    }\n",
       "  \n",
       "    if (root._bokeh_is_loading === 0) {\n",
       "      console.log(\"Bokeh: BokehJS loaded, going straight to plotting\");\n",
       "      run_inline_js();\n",
       "    } else {\n",
       "      load_libs(js_urls, function() {\n",
       "        console.log(\"Bokeh: BokehJS plotting callback run at\", now());\n",
       "        run_inline_js();\n",
       "      });\n",
       "    }\n",
       "  }(window));\n",
       "</script>"
      ]
     },
     "metadata": {},
     "output_type": "display_data"
    }
   ],
   "source": [
    "fig1 = figure(plot_width=300, plot_height=300)\n",
    "fig1.circle([1, 2, 3, 4, 5], [3, 1, 2, 1, 2], size=20, color=\"navy\", alpha=0.5)\n",
    "\n",
    "fig2 = figure(plot_width=300, plot_height=300)\n",
    "fig2.line([1, 2, 3, 4, 5], [3, 1, 2, 1, 2], line_width=5, color=\"coral\", alpha=0.75)\n",
    "\n",
    "fig3 = figure(plot_width=300, plot_height=300)\n",
    "fig3.hbar(y=[3, 2, 1], height=0.5, left=0, right=[1.2, 3.7, 2.7], color=\"darkorange\", alpha=0.6)\n",
    "\n",
    "layout = gridplot([fig1, fig2], # two rows, with fig1 and fig2 on the first\n",
    "                  [fig3])       # and fig3 on the second\n",
    "\n",
    "show(layout) # render the layout"
   ]
  },
  {
   "cell_type": "markdown",
   "metadata": {},
   "source": [
    "Feel free to play around with other layouts available in `bokeh.io`, with other plotting options in `bokeh.plotting`, and with the arguments to the plotting methods etc. You can find the documentation for Bokeh at [bokeh.pydata.org/](https://bokeh.pydata.org/), which should help as a reference and guide for what's possible. It's time for one final challenge exercise, to pull together what you've learned about Pandas, Bokeh, and Python in general :)"
   ]
  },
  {
   "cell_type": "markdown",
   "metadata": {},
   "source": [
    "#### _Exercise 4.9_"
   ]
  },
  {
   "cell_type": "markdown",
   "metadata": {},
   "source": [
    "Similarly to what you did before with `matplotlib`, plot all of the data that you read from the file earlier into a single file of bar plots, one for each site. This is challenging, but take it bit by bit and you should be able to do it. You might need to refer to the `help()` documentation and the online user guide linked above for the plotting functions to achieve everything listed above."
   ]
  },
  {
   "cell_type": "markdown",
   "metadata": {},
   "source": [
    "If you are really adventurous, plot all of the data on a single set of axes, with the data interleaved and the bars for different sites in different colours."
   ]
  },
  {
   "cell_type": "markdown",
   "metadata": {},
   "source": [
    "After you have finished on this exercise, or if you get really stuck and need to look at a solution, take a look at [this notebook](http://nbviewer.ipython.org/github/tobyhodges/ITPP/tree/master/Exercise4_9WalkthroughBokeh.ipynb), which runs through my way of producing the site plots with a different bar color for each taxon."
   ]
  },
  {
   "cell_type": "markdown",
   "metadata": {},
   "source": [
    "#### Summary"
   ]
  },
  {
   "cell_type": "markdown",
   "metadata": {},
   "source": [
    "* Files are opened with the `open()` command, and this returns a file object.\n",
    "* Methods of the file object, such as `.readline()` or `.readlines()` can be used to get data from the file.\n",
    "* Files can also be used as iterable data type in `for` statements (and other contexts).\n",
    "* Python doesn’t convert data types automatically, so you need to use functions like `str()` and `int()` to convert between strings and numbers.\n",
    "* Python modules provide additional functionality for the language, and can perform many common data analysis tasks. "
   ]
  }
 ],
 "metadata": {
  "kernelspec": {
   "display_name": "Python 3",
   "language": "python",
   "name": "python3"
  },
  "language_info": {
   "codemirror_mode": {
    "name": "ipython",
    "version": 3
   },
   "file_extension": ".py",
   "mimetype": "text/x-python",
   "name": "python",
   "nbconvert_exporter": "python",
   "pygments_lexer": "ipython3",
   "version": "3.6.2"
  }
 },
 "nbformat": 4,
 "nbformat_minor": 0
}

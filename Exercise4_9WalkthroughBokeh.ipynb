{
 "cells": [
  {
   "cell_type": "markdown",
   "metadata": {},
   "source": [
    "# Introduction to Python Programming"
   ]
  },
  {
   "cell_type": "markdown",
   "metadata": {},
   "source": [
    "## Walkthrough: Exercise 4.9 - Plotting with Bokeh"
   ]
  },
  {
   "cell_type": "markdown",
   "metadata": {},
   "source": [
    "First things first, we need to import the functions that we need from the third-party libraries, Pandas and Bokeh. We import all of Pandas, with the abbreviated namespace `pd`, and `figure`, `show` and `output_notebook` from `bokeh.plotting`. We use `output_notebook` here, to allow the plot to be displayed in this Jupyter Notebook - you might want to use `output_file` instead, which will result in the figure being rendered in an HTML file instead (see below). `figure` is used to construct the figure, and `show` is used to render the layout in the end. Speaking of layout, we import `gridplot` from `bokeh.io`, to create rows and columsn of the figures after we've created them. "
   ]
  },
  {
   "cell_type": "code",
   "execution_count": null,
   "metadata": {
    "collapsed": false
   },
   "outputs": [],
   "source": [
    "import pandas as pd\n",
    "from bokeh.plotting import figure, show, output_notebook, output_file\n",
    "from bokeh.io import gridplot"
   ]
  },
  {
   "cell_type": "markdown",
   "metadata": {},
   "source": [
    "Now, we need to read the data from the file into Python. Unlike in the matplotlib example, we will use a Pandas `DataFrame` here. (Note that this approach would work with matplotlib too - we're just choosing to introduce it at the same time as we start doing things with Bokeh.) We use the `read_table` function, with the `index_col` and `header` arguments, to read the tabular data into a dataframe."
   ]
  },
  {
   "cell_type": "code",
   "execution_count": null,
   "metadata": {
    "collapsed": false
   },
   "outputs": [],
   "source": [
    "inputFile = 'speciesDistribution_tabular.txt'\n",
    "data = pd.read_table(inputFile, header=0, index_col=0)\n",
    "data"
   ]
  },
  {
   "cell_type": "markdown",
   "metadata": {},
   "source": [
    "Great! Now we have all of our data loaded and arranged in the way that we need, we can move onto plotting."
   ]
  },
  {
   "cell_type": "markdown",
   "metadata": {},
   "source": [
    "Now we use `output_notebook()` to make sure that our plots can be displayed in this Notebook."
   ]
  },
  {
   "cell_type": "code",
   "execution_count": null,
   "metadata": {
    "collapsed": false
   },
   "outputs": [],
   "source": [
    "output_notebook()"
   ]
  },
  {
   "cell_type": "markdown",
   "metadata": {},
   "source": [
    "_Note: to save the plot to a file instead, use:_"
   ]
  },
  {
   "cell_type": "markdown",
   "metadata": {},
   "source": [
    "```Python\n",
    "output_file('my_amazing_plot.html') # give files descriptive names so you can easily identify them in future\n",
    "```"
   ]
  },
  {
   "cell_type": "markdown",
   "metadata": {},
   "source": [
    "Now we can start creating the indivual bar plots, one for each site. We want to display these plots all together, so we should start by storing them in a list. For each site we pull out the bar heights - this is the dataframe column corresponding to the site name; and the taxon names as a list created from the index column of the dataframe.\n",
    "\n",
    "Next, we create a figure object for the site, using the site name as the title, and setting the range for the x-axis as the taxon names. `tools=[]` disables the interactive tool bar for these plots. Finally, we call the `figure` object's `vbar` method to add the bars to the figure axes. The mid-points of the bars on the axis need to be labelled with the taxon names, so we construct a list comprehension* adding 0.5 to the index numbers along the axis. The heights of the bars are given as the column that we pulled out earlier. Once the figure is constructed, we add it to the list of plots."
   ]
  },
  {
   "cell_type": "code",
   "execution_count": null,
   "metadata": {
    "collapsed": false
   },
   "outputs": [],
   "source": [
    "plots = []\n",
    "for site in data.columns:\n",
    "    heights = data[site]\n",
    "    taxa = list(data.index)\n",
    "    fig = figure(plot_width=300, plot_height=200, title=site, x_range=taxa, tools=[])\n",
    "    fig.vbar(x=[n+0.5 for n in range(13)], \n",
    "       width=0.8, \n",
    "       bottom=0, \n",
    "       top=heights, \n",
    "       color='firebrick')\n",
    "    plots.append(fig)"
   ]
  },
  {
   "cell_type": "markdown",
   "metadata": {},
   "source": [
    "The final step is to lay out and display the plots. Here, we will use the `gridplot` function from `bokeh.io`, but there are plenty of other options. Check out the documentation [here](http://bokeh.pydata.org/en/latest/docs/user_guide/layout.html)."
   ]
  },
  {
   "cell_type": "code",
   "execution_count": null,
   "metadata": {
    "collapsed": false
   },
   "outputs": [],
   "source": [
    "layout = gridplot([[plots[0],plots[1]],\\\n",
    "                   [plots[2],plots[3]],\\\n",
    "                   [plots[4],plots[5]],\\\n",
    "                   [plots[6]]])\n",
    "show(layout)"
   ]
  },
  {
   "cell_type": "markdown",
   "metadata": {},
   "source": [
    "As a bonus, let's colour the bars individually according to the taxon that they refer to. There are 13 taxa, which is a bit too large to avoid using some similar colours, so we use the Category20 color palette instead. Several palettes are available via the `bokeh.palettes` module. Choose which one you want, then specify how many colours you need when you use the palette in your plot(s)."
   ]
  },
  {
   "cell_type": "code",
   "execution_count": null,
   "metadata": {
    "collapsed": true
   },
   "outputs": [],
   "source": [
    "from bokeh.palettes import Category20"
   ]
  },
  {
   "cell_type": "code",
   "execution_count": null,
   "metadata": {
    "collapsed": false
   },
   "outputs": [],
   "source": [
    "plots = []\n",
    "for site in data.columns:\n",
    "    heights = data[site]\n",
    "    taxa = list(data.index)\n",
    "    fig = figure(plot_width=300, plot_height=200, title=site, x_range=taxa, tools=[])\n",
    "    fig.vbar(x=[n+0.5 for n in range(13)], \n",
    "       width=0.8, \n",
    "       bottom=0, \n",
    "       top=heights, \n",
    "       color=Category20[13])\n",
    "    plots.append(fig)"
   ]
  },
  {
   "cell_type": "code",
   "execution_count": null,
   "metadata": {
    "collapsed": false
   },
   "outputs": [],
   "source": [
    "layout = gridplot([[plots[0],plots[1]],\\\n",
    "                   [plots[2],plots[3]],\\\n",
    "                   [plots[4],plots[5]],\\\n",
    "                   [plots[6]]])\n",
    "show(layout)"
   ]
  },
  {
   "cell_type": "markdown",
   "metadata": {},
   "source": [
    "#### \\*Note on list comprehensions\n",
    "\n",
    "A list comprehension is a way of building up a list from a loop on the fly. For example, the following two code blocks are equivalent:"
   ]
  },
  {
   "cell_type": "code",
   "execution_count": null,
   "metadata": {
    "collapsed": false
   },
   "outputs": [],
   "source": [
    "originals = range(10)\n",
    "squares = []\n",
    "for num in originals:\n",
    "    squares.append(num**2)\n",
    "print(squares)"
   ]
  },
  {
   "cell_type": "code",
   "execution_count": null,
   "metadata": {
    "collapsed": false
   },
   "outputs": [],
   "source": [
    "squares = [ x**2 for x in range(10) ]\n",
    "print(squares)"
   ]
  },
  {
   "cell_type": "markdown",
   "metadata": {},
   "source": [
    "The list comprehension was necessary above, to align the x-axis labels correctly with the centre of each taxon bar. Another approach to get the same result is possible using the `arange` function from the `numpy` library, which provides an _array_ of numbers in the range requested. Consider the difference in output between the two blocks below:"
   ]
  },
  {
   "cell_type": "code",
   "execution_count": null,
   "metadata": {
    "collapsed": false
   },
   "outputs": [],
   "source": [
    "some_numbers = list(range(2, 20)) # a standard list object\n",
    "print(some_numbers)\n",
    "some_numbers + 0.5"
   ]
  },
  {
   "cell_type": "code",
   "execution_count": null,
   "metadata": {
    "collapsed": false
   },
   "outputs": [],
   "source": [
    "from numpy import arange\n",
    "some_numbers = arange(2, 20)\n",
    "some_numbers + 0.5"
   ]
  },
  {
   "cell_type": "markdown",
   "metadata": {},
   "source": [
    "So, if we wanted to, we could use `arange` to create our plots as follows:"
   ]
  },
  {
   "cell_type": "code",
   "execution_count": null,
   "metadata": {
    "collapsed": false
   },
   "outputs": [],
   "source": [
    "plots = []\n",
    "for site in data.columns:\n",
    "    heights = data[site]\n",
    "    taxa = list(data.index)\n",
    "    fig = figure(plot_width=300, plot_height=200, title=site, x_range=taxa, tools=[])\n",
    "    fig.vbar(x=arange(13)+0.5, \n",
    "       width=0.8, \n",
    "       bottom=0, \n",
    "       top=heights, \n",
    "       color=Category20[13])\n",
    "    plots.append(fig)"
   ]
  },
  {
   "cell_type": "code",
   "execution_count": null,
   "metadata": {
    "collapsed": false
   },
   "outputs": [],
   "source": [
    "layout = gridplot([[plots[0],plots[1]],\\\n",
    "                   [plots[2],plots[3]],\\\n",
    "                   [plots[4],plots[5]],\\\n",
    "                   [plots[6]]])\n",
    "show(layout)"
   ]
  }
 ],
 "metadata": {
  "kernelspec": {
   "display_name": "Python 3",
   "language": "python",
   "name": "python3"
  },
  "language_info": {
   "codemirror_mode": {
    "name": "ipython",
    "version": 3
   },
   "file_extension": ".py",
   "mimetype": "text/x-python",
   "name": "python",
   "nbconvert_exporter": "python",
   "pygments_lexer": "ipython3",
   "version": "3.6.2"
  }
 },
 "nbformat": 4,
 "nbformat_minor": 0
}

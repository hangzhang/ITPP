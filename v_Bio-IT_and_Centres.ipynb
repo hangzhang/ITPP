{
 "cells": [
  {
   "cell_type": "markdown",
   "metadata": {},
   "source": [
    "## About Bio-IT"
   ]
  },
  {
   "cell_type": "markdown",
   "metadata": {},
   "source": [
    "### The Bio-IT Project"
   ]
  },
  {
   "cell_type": "markdown",
   "metadata": {},
   "source": [
    "The Bio-IT project is a community initiative, which aims to build, support, and promote computational biology activity at EMBL Heidelberg. The objective is for community members to help each other conduct their research, and to share their skills, experience, and tools with others.\n",
    "\n",
    "The Bio-IT Project aims to achieve its objectives through activity in four areas:\n",
    "\n",
    "- training and consultation\n",
    "- regular networking of interested parties, encouraging community building and knowledge transfer between computational biologists\n",
    "- establishing and maintaining community resources\n",
    "- providing support for bioinformatics tools and services\n",
    "\n",
    "You can find out more about the project and its activities, as well as listings for upcoming courses and events, by visiting the Bio-IT Portal at [https://bio-it.embl.de](https://bio-it.embl.de).\n",
    "\n",
    "Contact: [bio-it@embl.de](mailto:bio-it@embl.de)"
   ]
  },
  {
   "cell_type": "markdown",
   "metadata": {},
   "source": [
    "### EMBL Centres"
   ]
  },
  {
   "cell_type": "markdown",
   "metadata": {},
   "source": [
    "The EMBL Centres are ‘horizontal’, cross-departmental structures that promote innovative research projects across disciplines. The EMBL Centres listed below have a strong computational component."
   ]
  },
  {
   "cell_type": "markdown",
   "metadata": {},
   "source": [
    "#### Bioimage Analysis\n",
    "\n",
    "<img src=\"images/CBA-150x150.png\" style=\"float:right\">The Centre for Bioimage Analysis (CBA) supports scientists in extracting quantitative information from images acquired with light- or electron-microscopy.\n",
    "\n",
    "Visit the CBA hompage at [https://bio-it.embl.de/centres/cba/](https://bio-it.embl.de/centres/cba/)\n",
    "\n",
    "Contact: Christian Tischer ([christian.tischer@embl.de](mailto:christian.tischer@embl.de))"
   ]
  },
  {
   "cell_type": "markdown",
   "metadata": {},
   "source": [
    "#### Biological Modelling\n",
    "\n",
    "<img src=\"images/CBM_SVG-150x150.png\" style=\"float:right\">The CBM provides consultation appointments, performs collaborative modelling tasks, trains EMBL members in relevant programming languages and software tools and will foster collaboration and interactions between EMBL researchers using seminars, journal clubs as well as interdisciplinary retreats.\n",
    "\n",
    "Visit the CBM hompage at [https://bio-it.embl.de/centres/cbm/](https://bio-it.embl.de/centres/cbm/)\n",
    "\n",
    "Contact: Eva Geissen ([geissen@embl.de](mailto:geissen@embl.de))"
   ]
  },
  {
   "cell_type": "markdown",
   "metadata": {},
   "source": [
    "#### Biomolecular Network Analysis\n",
    "\n",
    "<img src=\"images/CBNA_SVG-150x150.png\" style=\"float:right\">The mission of the CBNA is to disseminate expertise, know-how and guidance in the field of biological network integration and analysis throughout EMBL to computational biologists and experimentalists alike.\n",
    "\n",
    "Visit the CBNA hompage at [https://bio-it.embl.de/centres/cbna/](https://bio-it.embl.de/centres/cbna/)\n",
    "\n",
    "Contact: Matt Rogon ([rogon@embl.de](mailto:rogon@embl.de))"
   ]
  },
  {
   "cell_type": "markdown",
   "metadata": {},
   "source": [
    "#### Statistical Data Analysis\n",
    "\n",
    "<img src=\"images/CSDA_SVG-150x150.png\" style=\"float:right\">The CSDA helps EMBL scientists to use adequate statistical methods for their specific technological or biological applications (testing, regression, clustering, classification, error rate estimation, sampling, visualization, …).\n",
    "\n",
    "Visit the CSDA hompage at [https://bio-it.embl.de/centres/csda/](https://bio-it.embl.de/centres/csda/)\n",
    "\n",
    "Contact: Bernd Klaus ([bernd.klaus@embl.de](mailto:bernd.klaus@embl.de))"
   ]
  }
 ],
 "metadata": {
  "kernelspec": {
   "display_name": "Python 3",
   "language": "python",
   "name": "python3"
  },
  "language_info": {
   "codemirror_mode": {
    "name": "ipython",
    "version": 3
   },
   "file_extension": ".py",
   "mimetype": "text/x-python",
   "name": "python",
   "nbconvert_exporter": "python",
   "pygments_lexer": "ipython3",
   "version": "3.6.2"
  }
 },
 "nbformat": 4,
 "nbformat_minor": 2
}
